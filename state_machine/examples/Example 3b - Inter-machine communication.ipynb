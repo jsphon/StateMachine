{
 "cells": [
  {
   "cell_type": "markdown",
   "metadata": {},
   "source": [
    "# Example State Machine Usage\n",
    "## Inter-Machine Communication\n",
    "\n",
    "In this example, suppose we have two state machines, representing a waiter and cook.\n",
    "\n",
    "The waiter:\n",
    "\n",
    " - Takes customer order\n",
    " - Enters Order\n",
    " - Waits for Order\n",
    " - Gives order to customer\n",
    " \n",
    "The chef:\n",
    "\n",
    " - Waits for an order\n",
    " - Prepares the order"
   ]
  },
  {
   "cell_type": "code",
   "execution_count": 189,
   "metadata": {
    "collapsed": false
   },
   "outputs": [],
   "source": [
    "from state_machine import StateMachine, State, Condition, AlwaysTrue, AlwaysFalse, Event, display_machine"
   ]
  },
  {
   "cell_type": "markdown",
   "metadata": {},
   "source": [
    "### States"
   ]
  },
  {
   "cell_type": "code",
   "execution_count": 190,
   "metadata": {
    "collapsed": false
   },
   "outputs": [],
   "source": [
    "def take_customer_order(event, state):\n",
    "    order = Event('order', event.payload)\n",
    "    return order"
   ]
  },
  {
   "cell_type": "code",
   "execution_count": 191,
   "metadata": {
    "collapsed": false
   },
   "outputs": [],
   "source": [
    "def enter_customer_order(event, state):\n",
    "    evt = Event( 'order entered', event.payload )\n",
    "    state.logger.info( 'Sending order entered event' )\n",
    "    state.notify_observers(evt)\n",
    "    return evt"
   ]
  },
  {
   "cell_type": "code",
   "execution_count": 192,
   "metadata": {
    "collapsed": false
   },
   "outputs": [],
   "source": [
    "def give_order_to_customer(event, state):\n",
    "    completed_order = event.payload\n",
    "    state.logger.info( 'Gives %s to customer', completed_order)"
   ]
  },
  {
   "cell_type": "code",
   "execution_count": 193,
   "metadata": {
    "collapsed": false
   },
   "outputs": [
    {
     "name": "stderr",
     "output_type": "stream",
     "text": [
      "INFO:default:Creating state of type <class 'state_machine.state.State'>\n",
      "INFO:default:Creating state of type <class 'state_machine.state.State'>\n",
      "INFO:default:Creating state of type <class 'state_machine.state.State'>\n"
     ]
    }
   ],
   "source": [
    "waiter = StateMachine('waiter')\n",
    "\n",
    "state_loiter                     = waiter.create_state('Loitering')\n",
    "state_wait_for_customer_to_order = waiter.create_state('Wait For Customer to Order')\n",
    "state_wait_for_order             = waiter.create_state('Wait For Chef To Cook')\n",
    "\n",
    "state_loiter.add_transition_to(state_wait_for_customer_to_order, 'customer waves')\n",
    "state_wait_for_customer_to_order.add_transition_to(state_wait_for_order, 'customer orders', action=enter_customer_order)\n",
    "state_wait_for_order.add_transition_to(state_loiter, 'order complete', action=give_order_to_customer)\n",
    "\n",
    "waiter.initial_state = state_loiter"
   ]
  },
  {
   "cell_type": "code",
   "execution_count": 194,
   "metadata": {
    "collapsed": false
   },
   "outputs": [
    {
     "data": {
      "image/svg+xml": [
       "<svg height=\"283pt\" viewBox=\"0.00 0.00 536.44 283.00\" width=\"536pt\" xmlns=\"http://www.w3.org/2000/svg\" xmlns:xlink=\"http://www.w3.org/1999/xlink\">\n",
       "<g class=\"graph\" id=\"graph0\" transform=\"scale(1 1) rotate(0) translate(4 279)\">\n",
       "<title>%3</title>\n",
       "<polygon fill=\"white\" points=\"-4,4 -4,-279 532.44,-279 532.44,4 -4,4\" stroke=\"none\"/>\n",
       "<!-- initial_waiter -->\n",
       "<g class=\"node\" id=\"node1\"><title>initial_waiter</title>\n",
       "<ellipse cx=\"281.44\" cy=\"-268\" fill=\"black\" rx=\"7\" ry=\"7\" stroke=\"black\"/>\n",
       "</g>\n",
       "<!-- Loitering -->\n",
       "<g class=\"node\" id=\"node2\"><title>Loitering</title>\n",
       "<ellipse cx=\"281.44\" cy=\"-192\" fill=\"none\" rx=\"43.5923\" ry=\"18\" stroke=\"black\"/>\n",
       "<text font-family=\"Times,serif\" font-size=\"14.00\" text-anchor=\"middle\" x=\"281.44\" y=\"-188.3\">Loitering</text>\n",
       "</g>\n",
       "<!-- initial_waiter&#45;&gt;Loitering -->\n",
       "<g class=\"edge\" id=\"edge1\"><title>initial_waiter-&gt;Loitering</title>\n",
       "<path d=\"M281.44,-260.944C281.44,-252.111 281.44,-235.136 281.44,-220.364\" fill=\"none\" stroke=\"black\"/>\n",
       "<polygon fill=\"black\" points=\"284.94,-220.144 281.44,-210.144 277.94,-220.144 284.94,-220.144\" stroke=\"black\"/>\n",
       "<text font-family=\"Times,serif\" font-size=\"14.00\" text-anchor=\"middle\" x=\"293.44\" y=\"-231.8\">start</text>\n",
       "</g>\n",
       "<!-- Wait For Customer to Order -->\n",
       "<g class=\"node\" id=\"node3\"><title>Wait For Customer to Order</title>\n",
       "<ellipse cx=\"112.44\" cy=\"-105\" fill=\"none\" rx=\"112.38\" ry=\"18\" stroke=\"black\"/>\n",
       "<text font-family=\"Times,serif\" font-size=\"14.00\" text-anchor=\"middle\" x=\"112.44\" y=\"-101.3\">Wait For Customer to Order</text>\n",
       "</g>\n",
       "<!-- Loitering&#45;&gt;Wait For Customer to Order -->\n",
       "<g class=\"edge\" id=\"edge2\"><title>Loitering-&gt;Wait For Customer to Order</title>\n",
       "<path d=\"M253.603,-177.919C239.943,-171.432 223.274,-163.417 208.44,-156 190.004,-146.782 169.742,-136.284 152.604,-127.296\" fill=\"none\" stroke=\"black\"/>\n",
       "<polygon fill=\"black\" points=\"153.915,-124.031 143.435,-122.475 150.658,-130.227 153.915,-124.031\" stroke=\"black\"/>\n",
       "<text font-family=\"Times,serif\" font-size=\"14.00\" text-anchor=\"middle\" x=\"252.44\" y=\"-144.8\">customer waves</text>\n",
       "</g>\n",
       "<!-- Wait For Chef To Cook -->\n",
       "<g class=\"node\" id=\"node4\"><title>Wait For Chef To Cook</title>\n",
       "<ellipse cx=\"197.44\" cy=\"-18\" fill=\"none\" rx=\"96.3833\" ry=\"18\" stroke=\"black\"/>\n",
       "<text font-family=\"Times,serif\" font-size=\"14.00\" text-anchor=\"middle\" x=\"197.44\" y=\"-14.3\">Wait For Chef To Cook</text>\n",
       "</g>\n",
       "<!-- Wait For Customer to Order&#45;&gt;Wait For Chef To Cook -->\n",
       "<g class=\"edge\" id=\"edge4\"><title>Wait For Customer to Order-&gt;Wait For Chef To Cook</title>\n",
       "<path d=\"M93.7356,-87.0953C84.9246,-77.0651 77.8434,-64.3329 85.44,-54 92.0919,-44.9521 101.072,-38.178 111.07,-33.1179\" fill=\"none\" stroke=\"black\"/>\n",
       "<polygon fill=\"black\" points=\"112.777,-36.1897 120.5,-28.9367 109.939,-29.7906 112.777,-36.1897\" stroke=\"black\"/>\n",
       "<text font-family=\"Times,serif\" font-size=\"14.00\" text-anchor=\"middle\" x=\"190.94\" y=\"-57.8\">customer orders/enter_customer_order</text>\n",
       "</g>\n",
       "<!-- Wait For Chef To Cook&#45;&gt;Loitering -->\n",
       "<g class=\"edge\" id=\"edge3\"><title>Wait For Chef To Cook-&gt;Loitering</title>\n",
       "<path d=\"M265.859,-30.7508C277.87,-35.9296 288.914,-43.3575 296.44,-54 319.525,-86.6466 306.08,-135.049 293.96,-164.726\" fill=\"none\" stroke=\"black\"/>\n",
       "<polygon fill=\"black\" points=\"290.697,-163.454 289.955,-174.023 297.126,-166.223 290.697,-163.454\" stroke=\"black\"/>\n",
       "<text font-family=\"Times,serif\" font-size=\"14.00\" text-anchor=\"middle\" x=\"418.44\" y=\"-101.3\">order complete/give_order_to_customer</text>\n",
       "</g>\n",
       "</g>\n",
       "</svg>"
      ],
      "text/plain": [
       "<IPython.core.display.SVG object>"
      ]
     },
     "metadata": {},
     "output_type": "display_data"
    }
   ],
   "source": [
    "from state_machine import diagrams as diagrams\n",
    "diagrams.display_machine(waiter)"
   ]
  },
  {
   "cell_type": "code",
   "execution_count": 195,
   "metadata": {
    "collapsed": false
   },
   "outputs": [
    {
     "name": "stderr",
     "output_type": "stream",
     "text": [
      "INFO:default:waiter transitioning to state State:Wait For Customer to Order\n",
      "INFO:default:waiter transitioning to state State:Wait For Chef To Cook\n",
      "INFO:default:Sending order entered event\n",
      "INFO:default:waiter transitioning to state State:Loitering\n",
      "INFO:default:Gives cooked_pizza to customer\n"
     ]
    }
   ],
   "source": [
    "waiter.initialise()\n",
    "\n",
    "e = Event('customer waves')\n",
    "waiter.notify(e)\n",
    "\n",
    "e = Event('customer orders','pizza')\n",
    "waiter.notify(e)\n",
    "\n",
    "# Simulating the result from the chef\n",
    "e = Event('order complete','cooked_pizza')\n",
    "waiter.notify(e)"
   ]
  },
  {
   "cell_type": "markdown",
   "metadata": {},
   "source": [
    "Make the Chef state machine."
   ]
  },
  {
   "cell_type": "code",
   "execution_count": 202,
   "metadata": {
    "collapsed": false
   },
   "outputs": [],
   "source": [
    "def when_order_entered(event, state):\n",
    "    state.logger.info( 'chef''s when_order_received received %s'%event)"
   ]
  },
  {
   "cell_type": "code",
   "execution_count": 203,
   "metadata": {
    "collapsed": false
   },
   "outputs": [],
   "source": [
    "def when_order_complete(event, state): \n",
    "    state.logger.info('Chef has completed order')\n",
    "    e = Event('order complete','cooked_pizza')\n",
    "    state.notify_observers(e)"
   ]
  },
  {
   "cell_type": "code",
   "execution_count": 204,
   "metadata": {
    "collapsed": false
   },
   "outputs": [
    {
     "name": "stderr",
     "output_type": "stream",
     "text": [
      "INFO:default:Creating state of type <class 'state_machine.state.State'>\n",
      "INFO:default:Creating state of type <class 'state_machine.state.State'>\n"
     ]
    }
   ],
   "source": [
    "chef = StateMachine('chef')\n",
    "chef_waits_for_order = chef.create_state('Chef Waits For Order')\n",
    "\n",
    "chef_prepares_order  = chef.create_state('Chef Prepares Order')\n",
    "\n",
    "chef_waits_for_order.add_transition_to(chef_prepares_order, 'order entered', action=when_order_entered )\n",
    "chef_prepares_order.add_transition_to(chef_waits_for_order, 'time passes', action=when_order_complete)\n",
    "\n",
    "chef.initial_state = chef_waits_for_order\n",
    "\n",
    "waiter.register_observer('order entered', chef)\n",
    "chef.register_observer('order complete', waiter)"
   ]
  },
  {
   "cell_type": "code",
   "execution_count": 205,
   "metadata": {
    "collapsed": false
   },
   "outputs": [
    {
     "data": {
      "image/svg+xml": [
       "<svg height=\"196pt\" viewBox=\"0.00 0.00 391.53 196.00\" width=\"392pt\" xmlns=\"http://www.w3.org/2000/svg\" xmlns:xlink=\"http://www.w3.org/1999/xlink\">\n",
       "<g class=\"graph\" id=\"graph0\" transform=\"scale(1 1) rotate(0) translate(4 192)\">\n",
       "<title>%3</title>\n",
       "<polygon fill=\"white\" points=\"-4,4 -4,-192 387.526,-192 387.526,4 -4,4\" stroke=\"none\"/>\n",
       "<!-- initial_chef -->\n",
       "<g class=\"node\" id=\"node1\"><title>initial_chef</title>\n",
       "<ellipse cx=\"108.526\" cy=\"-181\" fill=\"black\" rx=\"7\" ry=\"7\" stroke=\"black\"/>\n",
       "</g>\n",
       "<!-- Chef Waits For Order -->\n",
       "<g class=\"node\" id=\"node2\"><title>Chef Waits For Order</title>\n",
       "<ellipse cx=\"108.526\" cy=\"-105\" fill=\"none\" rx=\"89.0842\" ry=\"18\" stroke=\"black\"/>\n",
       "<text font-family=\"Times,serif\" font-size=\"14.00\" text-anchor=\"middle\" x=\"108.526\" y=\"-101.3\">Chef Waits For Order</text>\n",
       "</g>\n",
       "<!-- initial_chef&#45;&gt;Chef Waits For Order -->\n",
       "<g class=\"edge\" id=\"edge1\"><title>initial_chef-&gt;Chef Waits For Order</title>\n",
       "<path d=\"M108.526,-173.944C108.526,-165.111 108.526,-148.136 108.526,-133.364\" fill=\"none\" stroke=\"black\"/>\n",
       "<polygon fill=\"black\" points=\"112.026,-133.144 108.526,-123.144 105.026,-133.144 112.026,-133.144\" stroke=\"black\"/>\n",
       "<text font-family=\"Times,serif\" font-size=\"14.00\" text-anchor=\"middle\" x=\"120.526\" y=\"-144.8\">start</text>\n",
       "</g>\n",
       "<!-- Chef Prepares Order -->\n",
       "<g class=\"node\" id=\"node3\"><title>Chef Prepares Order</title>\n",
       "<ellipse cx=\"108.526\" cy=\"-18\" fill=\"none\" rx=\"83.3857\" ry=\"18\" stroke=\"black\"/>\n",
       "<text font-family=\"Times,serif\" font-size=\"14.00\" text-anchor=\"middle\" x=\"108.526\" y=\"-14.3\">Chef Prepares Order</text>\n",
       "</g>\n",
       "<!-- Chef Waits For Order&#45;&gt;Chef Prepares Order -->\n",
       "<g class=\"edge\" id=\"edge2\"><title>Chef Waits For Order-&gt;Chef Prepares Order</title>\n",
       "<path d=\"M38.8456,-93.7573C25.4077,-88.5154 12.9194,-80.6804 4.52617,-69 -8.27135,-51.1903 8.89253,-39.4693 32.7341,-31.8863\" fill=\"none\" stroke=\"black\"/>\n",
       "<polygon fill=\"black\" points=\"33.8778,-35.1996 42.5271,-29.0807 31.9499,-28.4703 33.8778,-35.1996\" stroke=\"black\"/>\n",
       "<text font-family=\"Times,serif\" font-size=\"14.00\" text-anchor=\"middle\" x=\"98.0262\" y=\"-57.8\">order entered/when_order_entered</text>\n",
       "</g>\n",
       "<!-- Chef Prepares Order&#45;&gt;Chef Waits For Order -->\n",
       "<g class=\"edge\" id=\"edge3\"><title>Chef Prepares Order-&gt;Chef Waits For Order</title>\n",
       "<path d=\"M162.543,-31.7995C184.705,-39.8419 202.827,-51.9694 191.526,-69 186.966,-75.8716 180.763,-81.3973 173.787,-85.8401\" fill=\"none\" stroke=\"black\"/>\n",
       "<polygon fill=\"black\" points=\"171.667,-83.0123 164.603,-90.9082 175.049,-89.141 171.667,-83.0123\" stroke=\"black\"/>\n",
       "<text font-family=\"Times,serif\" font-size=\"14.00\" text-anchor=\"middle\" x=\"289.026\" y=\"-57.8\">time passes/when_order_complete</text>\n",
       "</g>\n",
       "</g>\n",
       "</svg>"
      ],
      "text/plain": [
       "<IPython.core.display.SVG object>"
      ]
     },
     "metadata": {},
     "output_type": "display_data"
    }
   ],
   "source": [
    "display_machine( chef )"
   ]
  },
  {
   "cell_type": "markdown",
   "metadata": {},
   "source": [
    "Test the chef machine"
   ]
  },
  {
   "cell_type": "code",
   "execution_count": 206,
   "metadata": {
    "collapsed": false
   },
   "outputs": [
    {
     "name": "stderr",
     "output_type": "stream",
     "text": [
      "INFO:default:chef transitioning to state State:Chef Prepares Order\n",
      "INFO:default:chefs when_order_received received <Event name=\"order entered\", payload=pizza>\n",
      "INFO:default:chef transitioning to state State:Chef Waits For Order\n",
      "INFO:default:Chef has completed order\n"
     ]
    }
   ],
   "source": [
    "chef.initialise()\n",
    "\n",
    "e = Event('order entered','pizza')\n",
    "chef.notify(e)\n",
    "\n",
    "e = Event('time passes','10 minutes')\n",
    "chef.notify(e)"
   ]
  },
  {
   "cell_type": "markdown",
   "metadata": {},
   "source": [
    "Demonstrate interaction between the waiter and the chef...\n",
    "\n",
    "The waiter sends an 'order entered' event. The chef picks this up and prepares the order.\n",
    "\n",
    "When time passes, the chef completes the order, sending an 'order complete' order to the waiter."
   ]
  },
  {
   "cell_type": "code",
   "execution_count": 207,
   "metadata": {
    "collapsed": false
   },
   "outputs": [
    {
     "name": "stderr",
     "output_type": "stream",
     "text": [
      "INFO:default:waiter transitioning to state State:Wait For Customer to Order\n",
      "INFO:default:waiter transitioning to state State:Wait For Chef To Cook\n",
      "INFO:default:Sending order entered event\n",
      "INFO:default:chef transitioning to state State:Chef Prepares Order\n",
      "INFO:default:WhenOrderEntered received <Event name=\"order entered\", payload=pizza>\n",
      "INFO:default:chef transitioning to state State:Chef Prepares Order\n",
      "INFO:default:chefs when_order_received received <Event name=\"order entered\", payload=pizza>\n",
      "INFO:default:chef transitioning to state State:Chef Waits For Order\n",
      "INFO:default:Chef has completed order\n",
      "INFO:default:waiter transitioning to state State:Loitering\n",
      "INFO:default:Gives cooked_pizza to customer\n"
     ]
    }
   ],
   "source": [
    "waiter.initialise()\n",
    "chef.initialise()\n",
    "\n",
    "e = Event('customer waves')\n",
    "waiter.notify(e)\n",
    "\n",
    "e = Event('customer orders', 'pizza')\n",
    "waiter.notify(e)\n",
    "\n",
    "e = Event('time passes','10 minutes')\n",
    "chef.notify(e)"
   ]
  }
 ],
 "metadata": {
  "kernelspec": {
   "display_name": "Python 3",
   "language": "python",
   "name": "python3"
  },
  "language_info": {
   "codemirror_mode": {
    "name": "ipython",
    "version": 3
   },
   "file_extension": ".py",
   "mimetype": "text/x-python",
   "name": "python",
   "nbconvert_exporter": "python",
   "pygments_lexer": "ipython3",
   "version": "3.3.5"
  }
 },
 "nbformat": 4,
 "nbformat_minor": 0
}
