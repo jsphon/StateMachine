{
 "cells": [
  {
   "cell_type": "code",
   "execution_count": 1,
   "metadata": {
    "collapsed": false
   },
   "outputs": [
    {
     "name": "stdout",
     "output_type": "stream",
     "text": [
      "3.5.2 |Anaconda 4.1.1 (32-bit)| (default, Jul  2 2016, 17:49:02) \n",
      "[GCC 4.4.7 20120313 (Red Hat 4.4.7-1)]\n"
     ]
    }
   ],
   "source": [
    "import sys\n",
    "print( sys.version )"
   ]
  },
  {
   "cell_type": "code",
   "execution_count": 2,
   "metadata": {
    "collapsed": false
   },
   "outputs": [
    {
     "name": "stdout",
     "output_type": "stream",
     "text": [
      "Appending /home/jon/apps/pycharm-community-2016.1.4/helpers/pydev to path\n",
      "/usr/local/bin:/usr/bin:/bin:/usr/local/games:/usr/games:~/anaconda3/bin:/home/jon/anaconda3/bin:/home/jon/apps/pycharm-community-2016.1.4/helpers/pydev\n"
     ]
    }
   ],
   "source": [
    "import os\n",
    "\n",
    "path = '/home/jon/apps/pycharm-community-2016.1.4/helpers/pydev'\n",
    "if path not in os.environ[\"PATH\"]:\n",
    "    print( 'Appending %s to path'%path )\n",
    "    os.environ[\"PATH\"] += os.pathsep + path\n",
    "print(os.environ[\"PATH\"])"
   ]
  },
  {
   "cell_type": "code",
   "execution_count": 3,
   "metadata": {
    "collapsed": false
   },
   "outputs": [
    {
     "data": {
      "image/svg+xml": [
       "<svg height=\"171pt\" viewBox=\"0.00 0.00 131.00 171.00\" width=\"131pt\" xmlns=\"http://www.w3.org/2000/svg\" xmlns:xlink=\"http://www.w3.org/1999/xlink\">\n",
       "<g class=\"graph\" id=\"graph0\" transform=\"scale(1 1) rotate(0) translate(4 167)\">\n",
       "<title>%3</title>\n",
       "<polygon fill=\"white\" points=\"-4,4 -4,-167 127,-167 127,4 -4,4\" stroke=\"none\"/>\n",
       "<g class=\"cluster\" id=\"clust1\"><title>cluster_1</title>\n",
       "<polygon fill=\"none\" points=\"8,-8 8,-155 115,-155 115,-8 8,-8\" stroke=\"black\"/>\n",
       "<text font-family=\"Times,serif\" font-size=\"14.00\" text-anchor=\"middle\" x=\"61.5\" y=\"-139.8\">Restaurant Open</text>\n",
       "</g>\n",
       "<!-- initial -->\n",
       "<g class=\"node\" id=\"node1\"><title>initial</title>\n",
       "<ellipse cx=\"61\" cy=\"-106\" fill=\"none\" rx=\"27\" ry=\"18\" stroke=\"black\"/>\n",
       "</g>\n",
       "<!-- Loitering -->\n",
       "<g class=\"node\" id=\"node2\"><title>Loitering</title>\n",
       "<ellipse cx=\"61\" cy=\"-34\" fill=\"none\" rx=\"43.5923\" ry=\"18\" stroke=\"black\"/>\n",
       "<text font-family=\"Times,serif\" font-size=\"14.00\" text-anchor=\"middle\" x=\"61\" y=\"-30.3\">Loitering</text>\n",
       "</g>\n",
       "<!-- initial&#45;&gt;Loitering -->\n",
       "<g class=\"edge\" id=\"edge1\"><title>initial-&gt;Loitering</title>\n",
       "<path d=\"M61,-87.6966C61,-79.9827 61,-70.7125 61,-62.1124\" fill=\"none\" stroke=\"black\"/>\n",
       "<polygon fill=\"black\" points=\"64.5001,-62.1043 61,-52.1043 57.5001,-62.1044 64.5001,-62.1043\" stroke=\"black\"/>\n",
       "</g>\n",
       "</g>\n",
       "</svg>"
      ],
      "text/plain": [
       "<IPython.core.display.SVG object>"
      ]
     },
     "metadata": {},
     "output_type": "display_data"
    }
   ],
   "source": [
    "from IPython.display import SVG\n",
    "import pygraphviz as pgv\n",
    "from IPython.display import display\n",
    "\n",
    "G = pgv.AGraph(directed=True)\n",
    "\n",
    "G = pgv.AGraph(compound=True,directed=True)\n",
    "\n",
    "sub = G.add_subgraph( name='cluster_1', label='Restaurant Open', rank='same')\n",
    "\n",
    "sub.add_node( 'initial', label='')\n",
    "sub.add_node('Loitering')\n",
    "sub.add_edge('initial','Loitering')\n",
    "\n",
    "fn = '/tmp/state.svg'\n",
    "\n",
    "G.draw(fn, prog='dot')\n",
    "display(SVG(fn)) "
   ]
  },
  {
   "cell_type": "code",
   "execution_count": 4,
   "metadata": {
    "collapsed": false
   },
   "outputs": [],
   "source": [
    "import tempfile#, Image\n",
    "fout = tempfile.NamedTemporaryFile(suffix=\".png\")\n",
    "G.write(fout.name)#,format=\"png\")\n",
    "#Image.open(fout.name).show()\n"
   ]
  },
  {
   "cell_type": "code",
   "execution_count": 5,
   "metadata": {
    "collapsed": false
   },
   "outputs": [],
   "source": [
    "G.draw(fout.name, prog='dot')"
   ]
  }
 ],
 "metadata": {
  "anaconda-cloud": {},
  "kernelspec": {
   "display_name": "Python [Root]",
   "language": "python",
   "name": "Python [Root]"
  },
  "language_info": {
   "codemirror_mode": {
    "name": "ipython",
    "version": 3
   },
   "file_extension": ".py",
   "mimetype": "text/x-python",
   "name": "python",
   "nbconvert_exporter": "python",
   "pygments_lexer": "ipython3",
   "version": "3.5.2"
  }
 },
 "nbformat": 4,
 "nbformat_minor": 0
}
