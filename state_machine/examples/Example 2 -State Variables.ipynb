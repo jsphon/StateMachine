{
 "cells": [
  {
   "cell_type": "markdown",
   "metadata": {},
   "source": [
    "# Example State Machine Usage\n",
    "\n",
    "Shows use of (amongst other things)\n",
    "\n",
    " - Actions\n",
    " - Extended State Variables\n",
    " - Guards Conditions.\n",
    "\n",
    "An action does something with an event and stores it (in this example, transforms the string 'pizza' to 'cooked 'pizza'.\n",
    "\n",
    "It then waits for a 'cooked order' event, with payload of 'cooked pizza', before giving it to the customer."
   ]
  },
  {
   "cell_type": "code",
   "execution_count": 38,
   "metadata": {
    "collapsed": true
   },
   "outputs": [],
   "source": [
    "from state_machine import StateMachine, State, Model, Event, PseudoState"
   ]
  },
  {
   "cell_type": "code",
   "execution_count": 39,
   "metadata": {
    "collapsed": false
   },
   "outputs": [
    {
     "name": "stderr",
     "output_type": "stream",
     "text": [
      "INFO:default:Creating state of type <class 'state_machine.state.State'>\n",
      "INFO:default:Creating state of type <class 'state_machine.state.State'>\n",
      "INFO:default:Creating state of type <class 'state_machine.state.State'>\n",
      "INFO:default:Creating state of type <class 'state_machine.state.State'>\n",
      "INFO:default:Creating state of type <class 'state_machine.state.State'>\n"
     ]
    }
   ],
   "source": [
    "receptionist = StateMachine( 'Receptionist' )\n",
    "\n",
    "wait_for_phone      = receptionist.create_state('Wait For Phone')\n",
    "take_order          = receptionist.create_state('Take Order')\n",
    "enter_order         = receptionist.create_state('Enter Order')\n",
    "wait_for_order      = receptionist.create_state('Wait For Order')\n",
    "give_order_to_cust  = receptionist.create_state('Give Order')\n",
    "\n",
    "wait_for_phone.add_transition_to(take_order, 'phone rings')\n",
    "take_order.add_transition_to(enter_order, 'customer orders')"
   ]
  },
  {
   "cell_type": "markdown",
   "metadata": {},
   "source": [
    "When the 'enter_order' state is entered, the enter_order_action is called and stores 'cooked pizza'."
   ]
  },
  {
   "cell_type": "code",
   "execution_count": 40,
   "metadata": {
    "collapsed": true
   },
   "outputs": [],
   "source": [
    "def enter_order_action(event, state):\n",
    "    state.machine.vars['order']='cooked %s'%event.payload\n",
    "    state.logger.info( 'Ordered %s',state.machine.vars['order'] )\n",
    "\n",
    "enter_order.add_transition_to(wait_for_order)\n",
    "enter_order.on_start=enter_order_action    "
   ]
  },
  {
   "cell_type": "markdown",
   "metadata": {},
   "source": [
    "The guard, wait_for_order_guard, only lets transition pass if the payload is the same as the order variable."
   ]
  },
  {
   "cell_type": "code",
   "execution_count": 41,
   "metadata": {
    "collapsed": true
   },
   "outputs": [],
   "source": [
    "def wait_for_order_action(event, state):\n",
    "    state.logger.info('Wait for order action %s',state.machine.vars)\n",
    "    \n",
    "def wait_for_order_guard(event, state):\n",
    "    if event.payload==state.machine.vars['order']:\n",
    "        state.logger.info( 'Guard received %s, which is what it wants', event.payload)\n",
    "        return True\n",
    "    else:\n",
    "        state.logger.info( 'Guard received %s, which it does not want', event.payload)\n",
    "        \n",
    "wait_for_order.on_start = wait_for_order_action    \n",
    "wait_for_order.add_transition_to( give_order_to_cust, 'cooked order', guard=wait_for_order_guard)"
   ]
  },
  {
   "cell_type": "code",
   "execution_count": 42,
   "metadata": {
    "collapsed": false
   },
   "outputs": [],
   "source": [
    "def give_order_action(event, state):\n",
    "    state.logger.info('Giving %s to customer',event.payload)\n",
    "\n",
    "give_order_to_cust.on_start = give_order_action\n",
    "give_order_to_cust.add_transition_to(wait_for_order)"
   ]
  },
  {
   "cell_type": "code",
   "execution_count": 43,
   "metadata": {
    "collapsed": false
   },
   "outputs": [
    {
     "name": "stderr",
     "output_type": "stream",
     "text": [
      "INFO:default:Starting state Take Order\n",
      "INFO:default:Starting state Enter Order\n",
      "INFO:default:Ordered cooked pizza\n",
      "INFO:default:Starting state Wait For Order\n",
      "INFO:default:Wait for order action {'order': 'cooked pizza'}\n",
      "INFO:default:Guard received cooked pizza, which is what it wants\n",
      "INFO:default:Starting state Give Order\n",
      "INFO:default:Giving cooked pizza to customer\n"
     ]
    }
   ],
   "source": [
    "receptionist.set_state(wait_for_phone)\n",
    "\n",
    "evt = Event('phone rings')\n",
    "receptionist.notify(evt)\n",
    "\n",
    "evt = Event('customer orders', 'pizza')\n",
    "receptionist.notify(evt)\n",
    "\n",
    "evt = Event('cooked order', 'cooked lasagne')\n",
    "receptionist.notify(evt)\n",
    "\n",
    "\n",
    "evt = Event('cooked order', 'cooked pizza')\n",
    "receptionist.notify(evt)\n"
   ]
  }
 ],
 "metadata": {
  "kernelspec": {
   "display_name": "Python 3",
   "language": "python",
   "name": "python3"
  },
  "language_info": {
   "codemirror_mode": {
    "name": "ipython",
    "version": 3
   },
   "file_extension": ".py",
   "mimetype": "text/x-python",
   "name": "python",
   "nbconvert_exporter": "python",
   "pygments_lexer": "ipython3",
   "version": "3.3.5"
  }
 },
 "nbformat": 4,
 "nbformat_minor": 0
}
