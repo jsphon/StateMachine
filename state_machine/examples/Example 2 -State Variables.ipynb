{
 "cells": [
  {
   "cell_type": "markdown",
   "metadata": {},
   "source": [
    "# Example State Machine Usage\n",
    "\n",
    "Shows use of (amongst other things)\n",
    "\n",
    " - Actions\n",
    " - Extended State Variables\n",
    " - Guards Conditions.\n",
    "\n",
    "An action does something with an event and stores it (in this example, transforms the string 'pizza' to 'cooked 'pizza'.\n",
    "\n",
    "It then waits for a 'cooked order' event, with payload of 'cooked pizza', before giving it to the customer."
   ]
  },
  {
   "cell_type": "code",
   "execution_count": 43,
   "metadata": {
    "collapsed": false
   },
   "outputs": [],
   "source": [
    "from state_machine import StateMachine, State, Event, PseudoState"
   ]
  },
  {
   "cell_type": "code",
   "execution_count": 44,
   "metadata": {
    "collapsed": false
   },
   "outputs": [
    {
     "name": "stderr",
     "output_type": "stream",
     "text": [
      "INFO:default:Creating state of type <class 'state_machine.state.State'>\n",
      "INFO:default:Creating state of type <class 'state_machine.state.State'>\n"
     ]
    }
   ],
   "source": [
    "receptionist = StateMachine( 'Receptionist' )\n",
    "\n",
    "wait_for_customer   = receptionist.create_state('Wait For Customer')\n",
    "wait_for_order      = receptionist.create_state('Wait For Order')\n",
    "\n",
    "def enter_order_action(event, state):\n",
    "    state.machine.vars['order']='cooked %s'%event.payload\n",
    "    state.logger.info( 'Ordered %s',state.machine.vars['order'] )\n",
    "\n",
    "wait_for_customer.add_transition_to(wait_for_order, 'customer orders', action=enter_order_action)"
   ]
  },
  {
   "cell_type": "code",
   "execution_count": 45,
   "metadata": {
    "collapsed": false
   },
   "outputs": [],
   "source": [
    "def give_order_action(event, state):\n",
    "    state.logger.info('Giving %s to customer',event.payload)\n",
    "\n",
    "def wait_for_order_guard(event, state):\n",
    "    if event.payload==state.machine.vars['order']:\n",
    "        state.logger.info( 'Guard received %s, which is what it wants', event.payload)\n",
    "        return True\n",
    "    else:\n",
    "        state.logger.info( 'Guard received %s, which it does not want', event.payload)\n",
    "        \n",
    "wait_for_order.add_transition_to(wait_for_customer, 'cooked order', guard=wait_for_order_guard, action=give_order_action)"
   ]
  },
  {
   "cell_type": "code",
   "execution_count": 46,
   "metadata": {
    "collapsed": true
   },
   "outputs": [],
   "source": [
    "receptionist.initial_state=wait_for_customer"
   ]
  },
  {
   "cell_type": "markdown",
   "metadata": {},
   "source": [
    "When the 'enter_order' state is entered, the enter_order_action is called and stores 'cooked pizza'."
   ]
  },
  {
   "cell_type": "markdown",
   "metadata": {},
   "source": [
    "The guard, wait_for_order_guard, only lets transition pass if the payload is the same as the order variable."
   ]
  },
  {
   "cell_type": "code",
   "execution_count": 47,
   "metadata": {
    "collapsed": false
   },
   "outputs": [
    {
     "data": {
      "image/svg+xml": [
       "<svg height=\"196pt\" viewBox=\"0.00 0.00 510.65 196.00\" width=\"511pt\" xmlns=\"http://www.w3.org/2000/svg\" xmlns:xlink=\"http://www.w3.org/1999/xlink\">\n",
       "<g class=\"graph\" id=\"graph0\" transform=\"scale(1 1) rotate(0) translate(4 192)\">\n",
       "<title>%3</title>\n",
       "<polygon fill=\"white\" points=\"-4,4 -4,-192 506.654,-192 506.654,4 -4,4\" stroke=\"none\"/>\n",
       "<!-- initial_Receptionist -->\n",
       "<g class=\"node\" id=\"node1\"><title>initial_Receptionist</title>\n",
       "<ellipse cx=\"111.654\" cy=\"-181\" fill=\"black\" rx=\"7\" ry=\"7\" stroke=\"black\"/>\n",
       "</g>\n",
       "<!-- Wait For Customer -->\n",
       "<g class=\"node\" id=\"node2\"><title>Wait For Customer</title>\n",
       "<ellipse cx=\"111.654\" cy=\"-105\" fill=\"none\" rx=\"79.8859\" ry=\"18\" stroke=\"black\"/>\n",
       "<text font-family=\"Times,serif\" font-size=\"14.00\" text-anchor=\"middle\" x=\"111.654\" y=\"-101.3\">Wait For Customer</text>\n",
       "</g>\n",
       "<!-- initial_Receptionist&#45;&gt;Wait For Customer -->\n",
       "<g class=\"edge\" id=\"edge1\"><title>initial_Receptionist-&gt;Wait For Customer</title>\n",
       "<path d=\"M111.654,-173.944C111.654,-165.111 111.654,-148.136 111.654,-133.364\" fill=\"none\" stroke=\"black\"/>\n",
       "<polygon fill=\"black\" points=\"115.154,-133.144 111.654,-123.144 108.154,-133.144 115.154,-133.144\" stroke=\"black\"/>\n",
       "<text font-family=\"Times,serif\" font-size=\"14.00\" text-anchor=\"middle\" x=\"123.654\" y=\"-144.8\">start</text>\n",
       "</g>\n",
       "<!-- Wait For Order -->\n",
       "<g class=\"node\" id=\"node3\"><title>Wait For Order</title>\n",
       "<ellipse cx=\"111.654\" cy=\"-18\" fill=\"none\" rx=\"65.7887\" ry=\"18\" stroke=\"black\"/>\n",
       "<text font-family=\"Times,serif\" font-size=\"14.00\" text-anchor=\"middle\" x=\"111.654\" y=\"-14.3\">Wait For Order</text>\n",
       "</g>\n",
       "<!-- Wait For Customer&#45;&gt;Wait For Order -->\n",
       "<g class=\"edge\" id=\"edge2\"><title>Wait For Customer-&gt;Wait For Order</title>\n",
       "<path d=\"M43.5934,-95.4553C28.4202,-90.2293 14.0611,-81.9753 4.65356,-69 -10.215,-48.4927 14.1828,-36.1342 43.4125,-28.8354\" fill=\"none\" stroke=\"black\"/>\n",
       "<polygon fill=\"black\" points=\"44.4862,-32.1806 53.4607,-26.5496 42.9335,-25.355 44.4862,-32.1806\" stroke=\"black\"/>\n",
       "<text font-family=\"Times,serif\" font-size=\"14.00\" text-anchor=\"middle\" x=\"101.654\" y=\"-57.8\">customer orders/enter_order_action</text>\n",
       "</g>\n",
       "<!-- Wait For Order&#45;&gt;Wait For Customer -->\n",
       "<g class=\"edge\" id=\"edge3\"><title>Wait For Order-&gt;Wait For Customer</title>\n",
       "<path d=\"M162.469,-29.5059C188.172,-37.3436 211.478,-50.0175 198.654,-69 193.366,-76.8266 186.007,-82.9033 177.787,-87.6214\" fill=\"none\" stroke=\"black\"/>\n",
       "<polygon fill=\"black\" points=\"175.962,-84.6206 168.586,-92.2262 179.095,-90.8803 175.962,-84.6206\" stroke=\"black\"/>\n",
       "<text font-family=\"Times,serif\" font-size=\"14.00\" text-anchor=\"middle\" x=\"352.154\" y=\"-57.8\">cooked order[wait_for_order_guard]/give_order_action</text>\n",
       "</g>\n",
       "</g>\n",
       "</svg>"
      ],
      "text/plain": [
       "<IPython.core.display.SVG object>"
      ]
     },
     "metadata": {},
     "output_type": "display_data"
    }
   ],
   "source": [
    "from state_machine import display_machine\n",
    "display_machine(receptionist)"
   ]
  },
  {
   "cell_type": "code",
   "execution_count": 48,
   "metadata": {
    "collapsed": false
   },
   "outputs": [
    {
     "name": "stderr",
     "output_type": "stream",
     "text": [
      "INFO:default:Receptionist transitioning to state State:Wait For Order\n",
      "INFO:default:Ordered cooked pizza\n",
      "INFO:default:Guard received cooked lasagne, which it does not want\n",
      "INFO:default:Guard received cooked pizza, which is what it wants\n",
      "INFO:default:Receptionist transitioning to state State:Wait For Customer\n",
      "INFO:default:Giving cooked pizza to customer\n"
     ]
    }
   ],
   "source": [
    "receptionist.initialise()\n",
    "\n",
    "evt = Event('customer orders', 'pizza')\n",
    "receptionist.notify(evt)\n",
    "\n",
    "evt = Event('cooked order', 'cooked lasagne')\n",
    "receptionist.notify(evt)\n",
    "\n",
    "evt = Event('cooked order', 'cooked pizza')\n",
    "receptionist.notify(evt)"
   ]
  },
  {
   "cell_type": "code",
   "execution_count": null,
   "metadata": {
    "collapsed": true
   },
   "outputs": [],
   "source": []
  },
  {
   "cell_type": "code",
   "execution_count": null,
   "metadata": {
    "collapsed": true
   },
   "outputs": [],
   "source": []
  }
 ],
 "metadata": {
  "kernelspec": {
   "display_name": "Python 3",
   "language": "python",
   "name": "python3"
  },
  "language_info": {
   "codemirror_mode": {
    "name": "ipython",
    "version": 3
   },
   "file_extension": ".py",
   "mimetype": "text/x-python",
   "name": "python",
   "nbconvert_exporter": "python",
   "pygments_lexer": "ipython3",
   "version": "3.3.5"
  }
 },
 "nbformat": 4,
 "nbformat_minor": 0
}
