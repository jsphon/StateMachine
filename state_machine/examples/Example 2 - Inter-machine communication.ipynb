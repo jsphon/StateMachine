{
 "cells": [
  {
   "cell_type": "markdown",
   "metadata": {},
   "source": [
    "# Example State Machine Usage\n",
    "## Inter-Machine Communication\n",
    "\n",
    "In this example, suppose we have two state machines, representing a waiter and cook.\n",
    "\n",
    "The waiter:\n",
    "\n",
    " - Takes customer order\n",
    " - Enters Order\n",
    " - Waits for Order\n",
    " - Gives order to customer\n",
    " \n",
    "The cook:\n",
    "\n",
    " - Waits for an order\n",
    " - Prepares the order\n",
    " - Puts order in \"the pass\"\n",
    " - Waits for another order\n",
    "\n",
    "\n"
   ]
  },
  {
   "cell_type": "code",
   "execution_count": 1,
   "metadata": {
    "collapsed": false
   },
   "outputs": [],
   "source": [
    "from state_machine import StateMachine, State, Condition, AlwaysTrue, AlwaysFalse, Event"
   ]
  },
  {
   "cell_type": "code",
   "execution_count": 2,
   "metadata": {
    "collapsed": false
   },
   "outputs": [],
   "source": [
    "class CustomerWaves(Condition):\n",
    "    listens_for='customer'\n",
    "    \n",
    "    def __init__(self):\n",
    "        super(CustomerWaves,self).__init__(name='Customer Waves')\n",
    "    \n",
    "    def is_triggered(self, event):\n",
    "        return event.payload=='waves'\n",
    "\n",
    "CUSTOMER_WAVES = CustomerWaves()"
   ]
  },
  {
   "cell_type": "code",
   "execution_count": 3,
   "metadata": {
    "collapsed": false
   },
   "outputs": [],
   "source": [
    "class CustomerOrders(Condition):\n",
    "    listens_for='customer'\n",
    "    \n",
    "    def __init__(self):\n",
    "        super(CustomerOrders,self).__init__(name='Customer Orders')\n",
    "        \n",
    "    def is_triggered(self, event):\n",
    "        return 'orders' in event.payload\n",
    "            \n",
    "CUSTOMER_ORDERS = CustomerOrders()"
   ]
  },
  {
   "cell_type": "code",
   "execution_count": 4,
   "metadata": {
    "collapsed": true
   },
   "outputs": [],
   "source": [
    "class WhenOrderComplete(Condition):\n",
    "    listens_for='order_complete'\n",
    "    \n",
    "    def __init__(self):\n",
    "        super(WhenOrderComplete,self).__init__(name='When Order Complete')\n",
    "        \n",
    "    def is_triggered(self, event):\n",
    "        return True\n",
    "    \n",
    "WHEN_ORDER_COMPLETE = WhenOrderComplete()"
   ]
  },
  {
   "cell_type": "markdown",
   "metadata": {},
   "source": [
    "### States"
   ]
  },
  {
   "cell_type": "code",
   "execution_count": 5,
   "metadata": {
    "collapsed": false
   },
   "outputs": [],
   "source": [
    "class TakeCustomerOrder(State):\n",
    "        \n",
    "    def on_start(self, event):\n",
    "        order = Event('order', event.payload)\n",
    "        return order"
   ]
  },
  {
   "cell_type": "code",
   "execution_count": 6,
   "metadata": {
    "collapsed": false
   },
   "outputs": [],
   "source": [
    "class EnterCustomerOrder(State):\n",
    "    \n",
    "    def on_start(self, event):\n",
    "        evt = Event( 'order_entered', event.payload['orders'] )\n",
    "        self.logger.info( 'Sending order_entered event' )\n",
    "        self.notify_observers(evt)\n",
    "        return evt"
   ]
  },
  {
   "cell_type": "code",
   "execution_count": 7,
   "metadata": {
    "collapsed": false
   },
   "outputs": [],
   "source": [
    "class GiveOrderToCustomer(State):\n",
    "    \n",
    "    def on_start(self, event):\n",
    "        completed_order = event.payload\n",
    "        self.logger.info( 'Gives %s to customer', completed_order)"
   ]
  },
  {
   "cell_type": "code",
   "execution_count": 8,
   "metadata": {
    "collapsed": false
   },
   "outputs": [],
   "source": [
    "waiter = StateMachine('waiter')\n",
    "\n",
    "state_loiter                     = waiter.create_state('Loitering')\n",
    "state_wait_for_customer_to_order = waiter.create_state('Wait For Customer to Order')\n",
    "state_take_customer_order        = waiter.create_state( 'Take Customer Order', TakeCustomerOrder)\n",
    "state_enter_customer_order       = waiter.create_state( 'Enter Customer Order', EnterCustomerOrder)\n",
    "state_wait_for_order             = waiter.create_state('Wait For Order')\n",
    "state_give_order_to_customer     = waiter.create_state( 'Give Order to Customer', GiveOrderToCustomer)\n",
    "\n",
    "state_loiter.add_transition_to(state_wait_for_customer_to_order, CUSTOMER_WAVES)\n",
    "state_wait_for_customer_to_order.add_transition_to(state_take_customer_order, CUSTOMER_ORDERS)\n",
    "state_take_customer_order.add_default_transition_to(state_enter_customer_order)\n",
    "state_enter_customer_order.add_default_transition_to(state_wait_for_order)\n",
    "state_wait_for_order.add_transition_to(state_give_order_to_customer,WHEN_ORDER_COMPLETE)"
   ]
  },
  {
   "cell_type": "code",
   "execution_count": 9,
   "metadata": {
    "collapsed": false
   },
   "outputs": [
    {
     "name": "stderr",
     "output_type": "stream",
     "text": [
      "INFO:default:Customer waves\n",
      "INFO:default:Starting state Wait For Customer to Order\n",
      "INFO:default:Wait For Customer to Order started successfully returning event: None\n",
      "INFO:default:Customer orders pizza\n",
      "INFO:default:Starting state Take Customer Order\n",
      "INFO:default:Take Customer Order started successfully returning event: <Event name=\"order\", payload={'orders': 'pizza'}>\n",
      "INFO:default:Starting state Enter Customer Order\n",
      "INFO:default:Sending order_entered event\n",
      "INFO:default:Enter Customer Order started successfully returning event: <Event name=\"order_entered\", payload=pizza>\n",
      "INFO:default:Starting state Wait For Order\n",
      "INFO:default:Wait For Order started successfully returning event: None\n",
      "INFO:default:Giving waiter a completed order\n",
      "INFO:default:Starting state Give Order to Customer\n",
      "INFO:default:Gives cooked_pizza to customer\n",
      "INFO:default:Give Order to Customer started successfully returning event: None\n"
     ]
    }
   ],
   "source": [
    "waiter.set_state(state_loiter)\n",
    "\n",
    "e = Event('customer','waves')\n",
    "waiter.logger.info('Customer waves')\n",
    "waiter.notify(e)\n",
    "\n",
    "e = Event('customer',{'orders':'pizza'})\n",
    "waiter.logger.info( 'Customer orders pizza' )\n",
    "waiter.notify(e)\n",
    "\n",
    "# Simulating the result from the chef\n",
    "e = Event('order_complete','cooked_pizza')\n",
    "waiter.logger.info( 'Giving waiter a completed order' )\n",
    "waiter.notify(e)"
   ]
  },
  {
   "cell_type": "code",
   "execution_count": 10,
   "metadata": {
    "collapsed": false
   },
   "outputs": [],
   "source": [
    "class WhenOrderEntered(Condition):\n",
    "    listens_for='order_entered'\n",
    "    \n",
    "    def __init__(self):\n",
    "        super(WhenOrderEntered,self).__init__(name='When Order Entered')\n",
    "        \n",
    "    def is_triggered(self, event):\n",
    "        print( 'WhenOrderEntered received %s'%event)\n",
    "        return True\n",
    "    \n",
    "WHEN_ORDER_ENTERED = WhenOrderEntered()"
   ]
  },
  {
   "cell_type": "code",
   "execution_count": 21,
   "metadata": {
    "collapsed": true
   },
   "outputs": [],
   "source": [
    "class WhenOrderPrepared(Condition):\n",
    "    listens_for='time_passes'\n",
    "    \n",
    "    def __init__(self):\n",
    "        super(WhenOrderPrepared,self).__init__(name='When Order Entered')\n",
    "        \n",
    "    def is_triggered(self, event):\n",
    "        return True\n",
    "    \n",
    "WHEN_ORDER_PREPARED = WhenOrderPrepared()"
   ]
  },
  {
   "cell_type": "code",
   "execution_count": 25,
   "metadata": {
    "collapsed": true
   },
   "outputs": [],
   "source": [
    "class ChefPreparesOrder(State):\n",
    "    def on_start(self, event):\n",
    "        self.logger.info( 'Chef starts preparing %s'%event.payload)"
   ]
  },
  {
   "cell_type": "code",
   "execution_count": 26,
   "metadata": {
    "collapsed": false
   },
   "outputs": [],
   "source": [
    "class ChefCompletesOrder(State):\n",
    "    \n",
    "    def on_start(self, event):\n",
    "        self.logger.info('Chef has completed order')\n",
    "        e = Event('order_complete','cooked_pizza')\n",
    "        self.notify_observers(e)"
   ]
  },
  {
   "cell_type": "code",
   "execution_count": 27,
   "metadata": {
    "collapsed": false
   },
   "outputs": [],
   "source": [
    "chef = StateMachine('chef')\n",
    "chef_waits_for_order = chef.create_state('Chef Waits For Order')\n",
    "chef_prepares_order  = chef.create_state('Chef Prepares Order', ChefPreparesOrder)\n",
    "chef_completes_order = chef.create_state('Chef Completes Order', ChefCompletesOrder)\n",
    "\n",
    "chef_waits_for_order.add_transition_to(chef_prepares_order, WHEN_ORDER_ENTERED)\n",
    "chef_prepares_order.add_transition_to(chef_completes_order, WHEN_ORDER_PREPARED)"
   ]
  },
  {
   "cell_type": "code",
   "execution_count": 28,
   "metadata": {
    "collapsed": false
   },
   "outputs": [
    {
     "name": "stderr",
     "output_type": "stream",
     "text": [
      "INFO:default:Starting state Chef Prepares Order\n",
      "INFO:default:Chef starts preparing pizza\n",
      "INFO:default:Chef Prepares Order started successfully returning event: None\n",
      "INFO:default:<Event name=\"order_entered\", payload=pizza>\n",
      "INFO:default:Starting state Chef Completes Order\n",
      "INFO:default:Chef has completed order\n",
      "INFO:default:Chef Completes Order started successfully returning event: None\n"
     ]
    },
    {
     "name": "stdout",
     "output_type": "stream",
     "text": [
      "WhenOrderEntered received <Event name=\"order_entered\", payload=pizza>\n"
     ]
    }
   ],
   "source": [
    "chef.set_state(chef_waits_for_order)\n",
    "\n",
    "e = Event('order_entered','pizza')\n",
    "chef.notify(e)\n",
    "\n",
    "chef.logger.info( chef.current_state.start_event)\n",
    "\n",
    "e = Event('time_passes','10 minutes')\n",
    "chef.notify(e)"
   ]
  },
  {
   "cell_type": "code",
   "execution_count": 15,
   "metadata": {
    "collapsed": false
   },
   "outputs": [
    {
     "data": {
      "text/plain": [
       "<state_machine.state_machine.StateMachine at 0x7f155013db50>"
      ]
     },
     "execution_count": 15,
     "metadata": {},
     "output_type": "execute_result"
    }
   ],
   "source": [
    "chef"
   ]
  },
  {
   "cell_type": "code",
   "execution_count": null,
   "metadata": {
    "collapsed": true
   },
   "outputs": [],
   "source": []
  },
  {
   "cell_type": "code",
   "execution_count": 16,
   "metadata": {
    "collapsed": false
   },
   "outputs": [
    {
     "name": "stderr",
     "output_type": "stream",
     "text": [
      "INFO:default:Customer waves\n",
      "INFO:default:Starting state Wait For Customer to Order\n",
      "INFO:default:Wait For Customer to Order started successfully returning event: None\n",
      "INFO:default:Customer orders pizza\n",
      "INFO:default:Starting state Take Customer Order\n",
      "INFO:default:Take Customer Order started successfully returning event: <Event name=\"order\", payload={'orders': 'pizza'}>\n",
      "INFO:default:Starting state Enter Customer Order\n",
      "INFO:default:Sending order_entered event\n",
      "INFO:default:Starting state Chef Prepares Order\n",
      "INFO:default:Chef Prepares Order started successfully returning event: None\n",
      "INFO:default:Enter Customer Order started successfully returning event: <Event name=\"order_entered\", payload=pizza>\n",
      "INFO:default:Starting state Wait For Order\n",
      "INFO:default:Wait For Order started successfully returning event: None\n",
      "INFO:default:time passing...\n",
      "INFO:default:Starting state Chef Completes Order\n",
      "INFO:default:Chef has completed order\n",
      "INFO:default:Chef Completes Order started successfully returning event: None\n"
     ]
    },
    {
     "name": "stdout",
     "output_type": "stream",
     "text": [
      "WhenOrderEntered received <Event name=\"order_entered\", payload=pizza>\n"
     ]
    }
   ],
   "source": [
    "waiter.set_state(state_loiter)\n",
    "waiter.register_observer('order_entered', chef)\n",
    "\n",
    "chef.set_state(chef_waits_for_order)\n",
    "\n",
    "e = Event('customer','waves')\n",
    "waiter.logger.info('Customer waves')\n",
    "waiter.notify(e)\n",
    "\n",
    "e = Event('customer',{'orders':'pizza'})\n",
    "waiter.logger.info( 'Customer orders pizza' )\n",
    "waiter.notify(e)\n",
    "\n",
    "e = Event('time_passes','10 minutes')\n",
    "chef.logger.info( 'time passing...' )\n",
    "chef.notify(e)"
   ]
  },
  {
   "cell_type": "code",
   "execution_count": 17,
   "metadata": {
    "collapsed": false
   },
   "outputs": [
    {
     "name": "stdout",
     "output_type": "stream",
     "text": [
      "Object `preparing` not found.\n"
     ]
    }
   ],
   "source": [
    "WhaT IS the chef preparing?"
   ]
  },
  {
   "cell_type": "code",
   "execution_count": null,
   "metadata": {
    "collapsed": true
   },
   "outputs": [],
   "source": [
    "WhaT IS the chef preparing"
   ]
  },
  {
   "cell_type": "code",
   "execution_count": 18,
   "metadata": {
    "collapsed": false
   },
   "outputs": [
    {
     "ename": "SyntaxError",
     "evalue": "invalid syntax (<ipython-input-18-73a0de0905e2>, line 1)",
     "output_type": "error",
     "traceback": [
      "\u001b[1;36m  File \u001b[1;32m\"<ipython-input-18-73a0de0905e2>\"\u001b[1;36m, line \u001b[1;32m1\u001b[0m\n\u001b[1;33m    WhaT IS the chef preparing\u001b[0m\n\u001b[1;37m          ^\u001b[0m\n\u001b[1;31mSyntaxError\u001b[0m\u001b[1;31m:\u001b[0m invalid syntax\n"
     ]
    }
   ],
   "source": [
    "WhaT IS the chef preparing"
   ]
  }
 ],
 "metadata": {
  "kernelspec": {
   "display_name": "Python 3",
   "language": "python",
   "name": "python3"
  },
  "language_info": {
   "codemirror_mode": {
    "name": "ipython",
    "version": 3
   },
   "file_extension": ".py",
   "mimetype": "text/x-python",
   "name": "python",
   "nbconvert_exporter": "python",
   "pygments_lexer": "ipython3",
   "version": "3.3.5"
  }
 },
 "nbformat": 4,
 "nbformat_minor": 0
}
