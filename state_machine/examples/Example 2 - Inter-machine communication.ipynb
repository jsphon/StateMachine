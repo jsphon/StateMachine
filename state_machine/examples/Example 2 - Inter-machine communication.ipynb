{
 "cells": [
  {
   "cell_type": "code",
   "execution_count": null,
   "metadata": {
    "collapsed": true
   },
   "outputs": [],
   "source": [
    "TODO:\n",
    "    \n",
    "    send_event( event_name, data )\n",
    "    \n",
    "    should run state machine in for { event_name, data }"
   ]
  },
  {
   "cell_type": "markdown",
   "metadata": {},
   "source": [
    "# Example State Machine Usage\n",
    "## Inter-Machine Communication\n",
    "\n",
    "In this example, suppose we have two state machines, representing a waiter and cook.\n",
    "\n",
    "The waiter:\n",
    "\n",
    " - Takes customer order\n",
    " - Enters Order\n",
    " - Waits for Order\n",
    " - Gives order to customer\n",
    " \n",
    "The cook:\n",
    "\n",
    " - Waits for an order\n",
    " - Prepares the order\n",
    " - Puts order in \"the pass\"\n",
    " - Waits for another order\n",
    "\n",
    "\n"
   ]
  },
  {
   "cell_type": "code",
   "execution_count": 86,
   "metadata": {
    "collapsed": true
   },
   "outputs": [],
   "source": [
    "from state_machine import StateMachine, State, Model, Condition, AlwaysTrue, AlwaysFalse"
   ]
  },
  {
   "cell_type": "code",
   "execution_count": 87,
   "metadata": {
    "collapsed": true
   },
   "outputs": [],
   "source": [
    "class WaiterModel( Model ):\n",
    "    def __init__( self, name='Bernie' ):\n",
    "        super( WaiterModel, self ).__init__( name )\n",
    "\n",
    "waiter_model = WaiterModel()"
   ]
  },
  {
   "cell_type": "code",
   "execution_count": 88,
   "metadata": {
    "collapsed": false
   },
   "outputs": [],
   "source": [
    "class CustomerWaves(Condition):\n",
    "    listens_for='customer'\n",
    "    \n",
    "    def __init__(self):\n",
    "        super(CustomerWaves,self).__init__(name='Customer Waves')\n",
    "    \n",
    "    def is_triggered(self, data, model):\n",
    "        return data=='waves'\n",
    "\n",
    "CUSTOMER_WAVES = CustomerWaves()"
   ]
  },
  {
   "cell_type": "code",
   "execution_count": 89,
   "metadata": {
    "collapsed": false
   },
   "outputs": [],
   "source": [
    "class CustomerOrders(Condition):\n",
    "    listens_for='customer'\n",
    "    \n",
    "    def __init__(self):\n",
    "        super(CustomerOrders,self).__init__(name='Customer Orders')\n",
    "        \n",
    "    def is_triggered(self, data, model):\n",
    "        return 'orders' in data\n",
    "            \n",
    "CUSTOMER_ORDERS = CustomerOrders()"
   ]
  },
  {
   "cell_type": "code",
   "execution_count": 90,
   "metadata": {
    "collapsed": true
   },
   "outputs": [],
   "source": [
    "class WhenOrderComplete(Condition):\n",
    "    listens_for='order_complete'\n",
    "    \n",
    "    def __init__(self):\n",
    "        super(WhenOrderComplete,self).__init__(name='When Order Complete')\n",
    "        \n",
    "    def is_triggered(self, data, model):\n",
    "        return True\n",
    "    \n",
    "WHEN_ORDER_COMPLETE = WhenOrderComplete()"
   ]
  },
  {
   "cell_type": "code",
   "execution_count": 91,
   "metadata": {
    "collapsed": false
   },
   "outputs": [],
   "source": [
    "class TakeCustomerOrder(State):\n",
    "    \n",
    "    def __init__(self):\n",
    "        super( TakeCustomerOrder, self).__init__(name='Take Customer order')\n",
    "        \n",
    "    def on_start(self, data, model, state_input):\n",
    "        order = { 'order': data['customer']['orders'] }\n",
    "        model.logger.info( 'Customer has ordered %s'%data['customer']['orders'])\n",
    "        return order\n",
    "    \n",
    "TAKES_CUSTOMER_ORDER = TakeCustomerOrder()"
   ]
  },
  {
   "cell_type": "code",
   "execution_count": 92,
   "metadata": {
    "collapsed": true
   },
   "outputs": [],
   "source": [
    "class EnterCustomerOrder(State):\n",
    "    \n",
    "    def __init__(self):\n",
    "        super( EnterCustomerOrder, self).__init__(name='Enters Customer Order')\n",
    "        \n",
    "    def on_start(self, data, model, state_input):\n",
    "        model.logger.info( 'Entering Customer Order %s'%state_input )\n",
    "        model.logger.info( 'Sending order to listeners:%s'%state_input)\n",
    "        \n",
    "        model.send_event( 'order_entered', state_input)\n",
    "        \n",
    "ENTER_CUSTOMER_ORDER = EnterCustomerOrder()"
   ]
  },
  {
   "cell_type": "code",
   "execution_count": 93,
   "metadata": {
    "collapsed": true
   },
   "outputs": [],
   "source": [
    "class GiveOrderToCustomer(State):\n",
    "    \n",
    "    def __init__(self):\n",
    "        super( GiveOrderToCustomer, self).__init__(name='Give Order to Customer')\n",
    "        \n",
    "    def on_start(self, data, model, state_input):\n",
    "        completed_order = data[ 'order_complete' ]\n",
    "        model.logger.info( 'Gives %s to customer', completed_order)\n",
    "    "
   ]
  },
  {
   "cell_type": "code",
   "execution_count": 94,
   "metadata": {
    "collapsed": false
   },
   "outputs": [],
   "source": [
    "state_loiter = State('Loitering')\n",
    "state_wait_for_customer_to_order = State('Wait For Customer to Order')\n",
    "state_take_customer_order = TAKES_CUSTOMER_ORDER\n",
    "state_enter_customer_order = ENTER_CUSTOMER_ORDER\n",
    "state_wait_for_order = State('Wait For Order')\n",
    "state_give_order_to_customer = GiveOrderToCustomer()\n",
    "\n",
    "state_loiter.add_transition_to(state_wait_for_customer_to_order, CUSTOMER_WAVES)\n",
    "state_wait_for_customer_to_order.add_transition_to(state_take_customer_order, CUSTOMER_ORDERS)\n",
    "state_take_customer_order.add_default_transition_to(state_enter_customer_order)\n",
    "state_enter_customer_order.add_default_transition_to(state_wait_for_order)\n",
    "state_wait_for_order.add_transition_to(state_give_order_to_customer,WHEN_ORDER_COMPLETE)"
   ]
  },
  {
   "cell_type": "code",
   "execution_count": 95,
   "metadata": {
    "collapsed": false
   },
   "outputs": [
    {
     "name": "stderr",
     "output_type": "stream",
     "text": [
      "INFO:default:Testing transition Transition from State:Loitering to State:Wait For Customer to Order, Condition:(Customer Waves)\n",
      "INFO:default:Returning Transition from State:Loitering to State:Wait For Customer to Order, Condition:(Customer Waves)\n",
      "INFO:default:Starting state Wait For Customer to Order\n",
      "INFO:default:Wait For Customer to Order started successfully with result: None\n",
      "INFO:default:Testing transition Transition from State:Wait For Customer to Order to State:Take Customer order, Condition:(Customer Orders)\n",
      "INFO:default:Testing transition Transition from State:Wait For Customer to Order to State:Take Customer order, Condition:(Customer Orders)\n",
      "INFO:default:Returning Transition from State:Wait For Customer to Order to State:Take Customer order, Condition:(Customer Orders)\n",
      "INFO:default:Starting state Take Customer order\n",
      "INFO:default:Customer has ordered pizza\n",
      "INFO:default:Take Customer order started successfully with result: {'order': 'pizza'}\n",
      "INFO:default:Starting state Enters Customer Order\n",
      "INFO:default:Entering Customer Order {'order': 'pizza'}\n",
      "INFO:default:Sending order to listeners:{'order': 'pizza'}\n",
      "INFO:default:Enters Customer Order started successfully with result: None\n",
      "INFO:default:Starting state Wait For Order\n",
      "INFO:default:Wait For Order started successfully with result: None\n",
      "INFO:default:Testing transition Transition from State:Wait For Order to State:Give Order to Customer, Condition:(When Order Complete)\n",
      "INFO:default:Returning Transition from State:Wait For Order to State:Give Order to Customer, Condition:(When Order Complete)\n",
      "INFO:default:Starting state Give Order to Customer\n",
      "INFO:default:Gives cooked pizza to customer\n",
      "INFO:default:Give Order to Customer started successfully with result: None\n"
     ]
    }
   ],
   "source": [
    "waiter = StateMachine('Waiter')\n",
    "waiter_model = WaiterModel()\n",
    "waiter_model.set_state(state_loiter)\n",
    "\n",
    "data = { 'customer':'waves'}\n",
    "waiter.run(data, waiter_model)\n",
    "\n",
    "data = {'customer':{'orders':'pizza'}}\n",
    "waiter.run(data, waiter_model)\n",
    "\n",
    "# Simulating the result from the chef\n",
    "data = {'order_complete':'cooked pizza'}\n",
    "waiter.run(data, waiter_model)"
   ]
  },
  {
   "cell_type": "code",
   "execution_count": 96,
   "metadata": {
    "collapsed": false
   },
   "outputs": [],
   "source": [
    "class ChefModel(Model):\n",
    "    \n",
    "    def __init__(self, name, *args, **kwargs):\n",
    "        super(ChefModel, self).__init__(name, *args, **kwargs)"
   ]
  },
  {
   "cell_type": "code",
   "execution_count": 97,
   "metadata": {
    "collapsed": true
   },
   "outputs": [],
   "source": [
    "class WhenOrderEntered(Condition):\n",
    "    listens_for='order_entered'\n",
    "    \n",
    "    def __init__(self):\n",
    "        super(WhenOrderEntered,self).__init__(name='When Order Entered')\n",
    "        \n",
    "    def is_triggered(self, data, model):\n",
    "        return True\n",
    "    \n",
    "WHEN_ORDER_ENTERED = WhenOrderEntered()"
   ]
  },
  {
   "cell_type": "code",
   "execution_count": 98,
   "metadata": {
    "collapsed": false
   },
   "outputs": [],
   "source": [
    "class WhenOrderPrepared(Condition):\n",
    "    listens_for='time_passes'\n",
    "    \n",
    "    def __init__(self):\n",
    "        super(WhenOrderPrepared,self).__init__(name='When Order Entered')\n",
    "        \n",
    "    def is_triggered(self, data, model):\n",
    "        return True\n",
    "    \n",
    "WHEN_ORDER_PREPARED = WhenOrderPrepared()"
   ]
  },
  {
   "cell_type": "code",
   "execution_count": 99,
   "metadata": {
    "collapsed": false
   },
   "outputs": [],
   "source": [
    "chef_waits_for_order = State('Chef Waits For Order')\n",
    "chef_prepares_order = State('Chef Prepares Order')\n",
    "chef_completes_order = State('Chef Completes Order')\n",
    "\n",
    "chef_waits_for_order.add_transition_to(chef_prepares_order, WHEN_ORDER_ENTERED)\n",
    "chef_prepares_order.add_transition_to(chef_completes_order, WHEN_ORDER_PREPARED)"
   ]
  },
  {
   "cell_type": "code",
   "execution_count": 100,
   "metadata": {
    "collapsed": false
   },
   "outputs": [
    {
     "name": "stderr",
     "output_type": "stream",
     "text": [
      "INFO:default:Testing transition Transition from State:Chef Waits For Order to State:Chef Prepares Order, Condition:(When Order Entered)\n",
      "INFO:default:Returning Transition from State:Chef Waits For Order to State:Chef Prepares Order, Condition:(When Order Entered)\n",
      "INFO:default:Starting state Chef Prepares Order\n",
      "INFO:default:Chef Prepares Order started successfully with result: None\n",
      "INFO:default:Testing transition Transition from State:Chef Prepares Order to State:Chef Completes Order, Condition:(When Order Entered)\n",
      "INFO:default:Returning Transition from State:Chef Prepares Order to State:Chef Completes Order, Condition:(When Order Entered)\n",
      "INFO:default:Starting state Chef Completes Order\n",
      "INFO:default:Chef Completes Order started successfully with result: None\n"
     ]
    }
   ],
   "source": [
    "chef = StateMachine('Chef')\n",
    "chef_model = ChefModel('chef model',state_machine=chef)\n",
    "chef_model.set_state(chef_waits_for_order)\n",
    "\n",
    "data = {'order_entered':'pizza'}\n",
    "chef.run(data,chef_model)\n",
    "\n",
    "data = {'time_passes':'10 minutes'}\n",
    "chef.run(data, chef_model)"
   ]
  },
  {
   "cell_type": "code",
   "execution_count": 101,
   "metadata": {
    "collapsed": false
   },
   "outputs": [
    {
     "name": "stderr",
     "output_type": "stream",
     "text": [
      "INFO:default:Testing transition Transition from State:Loitering to State:Wait For Customer to Order, Condition:(Customer Waves)\n",
      "INFO:default:Returning Transition from State:Loitering to State:Wait For Customer to Order, Condition:(Customer Waves)\n",
      "INFO:default:Starting state Wait For Customer to Order\n",
      "INFO:default:Wait For Customer to Order started successfully with result: None\n",
      "INFO:default:Testing transition Transition from State:Wait For Customer to Order to State:Take Customer order, Condition:(Customer Orders)\n",
      "INFO:default:Testing transition Transition from State:Wait For Customer to Order to State:Take Customer order, Condition:(Customer Orders)\n",
      "INFO:default:Returning Transition from State:Wait For Customer to Order to State:Take Customer order, Condition:(Customer Orders)\n",
      "INFO:default:Starting state Take Customer order\n",
      "INFO:default:Customer has ordered pizza\n",
      "INFO:default:Take Customer order started successfully with result: {'order': 'pizza'}\n",
      "INFO:default:Starting state Enters Customer Order\n",
      "INFO:default:Entering Customer Order {'order': 'pizza'}\n",
      "INFO:default:Sending order to listeners:{'order': 'pizza'}\n",
      "INFO:default:Enters Customer Order started successfully with result: None\n",
      "INFO:default:Starting state Wait For Order\n",
      "INFO:default:Wait For Order started successfully with result: None\n"
     ]
    }
   ],
   "source": [
    "waiter_model.set_state(state_loiter)\n",
    "waiter_model.add_listener(chef_model, 'order_entered')\n",
    "\n",
    "chef_model.set_state(chef_waits_for_order)\n",
    "\n",
    "data = { 'customer':'waves'}\n",
    "waiter.run(data, waiter_model)\n",
    "\n",
    "data = {'customer':{'orders':'pizza'}}\n",
    "waiter.run(data, waiter_model)"
   ]
  },
  {
   "cell_type": "code",
   "execution_count": 109,
   "metadata": {
    "collapsed": false
   },
   "outputs": [
    {
     "name": "stderr",
     "output_type": "stream",
     "text": [
      "INFO:default:Testing transition Transition from State:Chef Waits For Order to State:Chef Prepares Order, Condition:(When Order Entered)\n",
      "INFO:default:Returning Transition from State:Chef Waits For Order to State:Chef Prepares Order, Condition:(When Order Entered)\n",
      "INFO:default:Starting state Chef Prepares Order\n",
      "INFO:default:Chef Prepares Order started successfully with result: None\n"
     ]
    }
   ],
   "source": [
    "for x in waiter_model.listeners['order_entered']:\n",
    "    data = {'order_entered':'pizza'}\n",
    "    x.state_machine.run( data, x)"
   ]
  },
  {
   "cell_type": "code",
   "execution_count": null,
   "metadata": {
    "collapsed": true
   },
   "outputs": [],
   "source": [
    "\n"
   ]
  }
 ],
 "metadata": {
  "kernelspec": {
   "display_name": "Python 3",
   "language": "python",
   "name": "python3"
  },
  "language_info": {
   "codemirror_mode": {
    "name": "ipython",
    "version": 3
   },
   "file_extension": ".py",
   "mimetype": "text/x-python",
   "name": "python",
   "nbconvert_exporter": "python",
   "pygments_lexer": "ipython3",
   "version": "3.3.5"
  }
 },
 "nbformat": 4,
 "nbformat_minor": 0
}
