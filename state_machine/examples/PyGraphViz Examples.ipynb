{
 "cells": [
  {
   "cell_type": "code",
   "execution_count": 1,
   "metadata": {
    "collapsed": false
   },
   "outputs": [],
   "source": [
    "import matplotlib.pyplot as plt\n",
    "from IPython.display import SVG\n",
    "import pygraphviz as pgv\n",
    "from IPython.display import Image, display, display_png\n",
    "\n",
    "def draw_graph(G):\n",
    "    fn='state.svg'\n",
    "    G.draw(fn, prog='dot')\n",
    "    display(SVG(fn)) "
   ]
  },
  {
   "cell_type": "code",
   "execution_count": 2,
   "metadata": {
    "collapsed": false
   },
   "outputs": [],
   "source": [
    "style_attributes = {\n",
    "    'node': {\n",
    "        'default': {\n",
    "            'shape': 'circle',\n",
    "            'height': '1.2',\n",
    "            'style': 'filled',\n",
    "            'fillcolor': 'white',\n",
    "            'color': 'black',\n",
    "        },\n",
    "        'initial': {\n",
    "            'shape': 'circle',\n",
    "            'width': '0.5',\n",
    "            'width':'0.5',\n",
    "            'style': 'filled',\n",
    "            'fillcolor': 'black',\n",
    "            'color': 'black',\n",
    "        },\n",
    "        'final': {\n",
    "            'shape': 'doublecircle',\n",
    "            'width': '0.5',\n",
    "            'width':'0.5',\n",
    "            'style': 'filled',\n",
    "            'fillcolor': 'black',\n",
    "            'color': 'black',\n",
    "        },\n",
    "        'active': {\n",
    "            'color': 'red',\n",
    "            'fillcolor': 'darksalmon',\n",
    "            'shape': 'doublecircle'\n",
    "        },\n",
    "        'previous': {\n",
    "            'color': 'blue',\n",
    "            'fillcolor': 'azure2',\n",
    "        }\n",
    "    },\n",
    "    'edge': {\n",
    "        'default': {\n",
    "            'color': 'black',\n",
    "\n",
    "        },\n",
    "        'previous': {\n",
    "            'color': 'blue',\n",
    "\n",
    "        }\n",
    "    }\n",
    "}\n"
   ]
  },
  {
   "cell_type": "code",
   "execution_count": 3,
   "metadata": {
    "collapsed": false
   },
   "outputs": [
    {
     "data": {
      "image/svg+xml": [
       "<svg height=\"338pt\" viewBox=\"0.00 0.00 420.39 338.00\" width=\"420pt\" xmlns=\"http://www.w3.org/2000/svg\" xmlns:xlink=\"http://www.w3.org/1999/xlink\">\n",
       "<g class=\"graph\" id=\"graph0\" transform=\"scale(1 1) rotate(0) translate(4 334)\">\n",
       "<title>%3</title>\n",
       "<polygon fill=\"white\" points=\"-4,4 -4,-334 416.393,-334 416.393,4 -4,4\" stroke=\"none\"/>\n",
       "<g class=\"cluster\" id=\"clust1\"><title>cluster_1</title>\n",
       "<polygon fill=\"none\" points=\"8,-87 8,-322 254,-322 254,-87 8,-87\" stroke=\"black\"/>\n",
       "<text font-family=\"Times,serif\" font-size=\"14.00\" text-anchor=\"middle\" x=\"131\" y=\"-306.8\">Restaurant Open</text>\n",
       "</g>\n",
       "<!-- initial -->\n",
       "<g class=\"node\" id=\"node1\"><title>initial</title>\n",
       "<ellipse cx=\"190\" cy=\"-273\" fill=\"black\" rx=\"18\" ry=\"18\" stroke=\"black\"/>\n",
       "</g>\n",
       "<!-- Loitering -->\n",
       "<g class=\"node\" id=\"node2\"><title>Loitering</title>\n",
       "<ellipse cx=\"161\" cy=\"-200\" fill=\"none\" rx=\"43.5923\" ry=\"18\" stroke=\"black\"/>\n",
       "<text font-family=\"Times,serif\" font-size=\"14.00\" text-anchor=\"middle\" x=\"161\" y=\"-196.3\">Loitering</text>\n",
       "</g>\n",
       "<!-- initial&#45;&gt;Loitering -->\n",
       "<g class=\"edge\" id=\"edge1\"><title>initial-&gt;Loitering</title>\n",
       "<path d=\"M183.419,-255.889C179.996,-247.508 175.724,-237.047 171.829,-227.512\" fill=\"none\" stroke=\"black\"/>\n",
       "<polygon fill=\"black\" points=\"174.98,-225.971 167.959,-218.037 168.5,-228.618 174.98,-225.971\" stroke=\"black\"/>\n",
       "</g>\n",
       "<!-- Serving Customer -->\n",
       "<g class=\"node\" id=\"node3\"><title>Serving Customer</title>\n",
       "<ellipse cx=\"121\" cy=\"-113\" fill=\"none\" rx=\"75.2868\" ry=\"18\" stroke=\"black\"/>\n",
       "<text font-family=\"Times,serif\" font-size=\"14.00\" text-anchor=\"middle\" x=\"121\" y=\"-109.3\">Serving Customer</text>\n",
       "</g>\n",
       "<!-- Loitering&#45;&gt;Serving Customer -->\n",
       "<g class=\"edge\" id=\"edge2\"><title>Loitering-&gt;Serving Customer</title>\n",
       "<path d=\"M120.681,-193.166C87.9034,-187.5 45.4411,-177.737 35,-164 23.3995,-148.738 38.0271,-137.311 58.3191,-129.262\" fill=\"none\" stroke=\"black\"/>\n",
       "<polygon fill=\"black\" points=\"59.7368,-132.472 67.9671,-125.8 57.3726,-125.883 59.7368,-132.472\" stroke=\"black\"/>\n",
       "<text font-family=\"Times,serif\" font-size=\"14.00\" text-anchor=\"middle\" x=\"82.5\" y=\"-152.8\">Customer Waves</text>\n",
       "</g>\n",
       "<!-- Restaurant Closed -->\n",
       "<g class=\"node\" id=\"node4\"><title>Restaurant Closed</title>\n",
       "<ellipse cx=\"337\" cy=\"-113\" fill=\"none\" rx=\"75.2868\" ry=\"18\" stroke=\"black\"/>\n",
       "<text font-family=\"Times,serif\" font-size=\"14.00\" text-anchor=\"middle\" x=\"337\" y=\"-109.3\">Restaurant Closed</text>\n",
       "</g>\n",
       "<!-- Loitering&#45;&gt;Restaurant Closed -->\n",
       "<g class=\"edge\" id=\"edge4\"><title>Loitering-&gt;Restaurant Closed</title>\n",
       "<path d=\"M253.755,-158.273C269.294,-150.579 285.261,-142.216 299.002,-134.852\" fill=\"none\" stroke=\"black\"/>\n",
       "<polygon fill=\"black\" points=\"301.046,-137.726 308.188,-129.901 297.724,-131.564 301.046,-137.726\" stroke=\"black\"/>\n",
       "<text font-family=\"Times,serif\" font-size=\"14.00\" text-anchor=\"middle\" x=\"289\" y=\"-152.8\">closes</text>\n",
       "</g>\n",
       "<!-- Serving Customer&#45;&gt;Loitering -->\n",
       "<g class=\"edge\" id=\"edge3\"><title>Serving Customer-&gt;Loitering</title>\n",
       "<path d=\"M129.023,-131.049C134.658,-143.024 142.302,-159.266 148.703,-172.868\" fill=\"none\" stroke=\"black\"/>\n",
       "<polygon fill=\"black\" points=\"145.672,-174.649 153.097,-182.207 152.006,-171.668 145.672,-174.649\" stroke=\"black\"/>\n",
       "<text font-family=\"Times,serif\" font-size=\"14.00\" text-anchor=\"middle\" x=\"191\" y=\"-152.8\">Customer Orders</text>\n",
       "</g>\n",
       "<!-- final -->\n",
       "<g class=\"node\" id=\"node5\"><title>final</title>\n",
       "<ellipse cx=\"121\" cy=\"-22\" fill=\"black\" rx=\"18\" ry=\"18\" stroke=\"black\"/>\n",
       "<ellipse cx=\"121\" cy=\"-22\" fill=\"none\" rx=\"22\" ry=\"22\" stroke=\"black\"/>\n",
       "</g>\n",
       "<!-- Serving Customer&#45;&gt;final -->\n",
       "<g class=\"edge\" id=\"edge5\"><title>Serving Customer-&gt;final</title>\n",
       "<path d=\"M121,-87.4572C121,-77.2944 121,-65.3801 121,-54.5781\" fill=\"none\" stroke=\"black\"/>\n",
       "<polygon fill=\"black\" points=\"124.5,-54.1905 121,-44.1905 117.5,-54.1906 124.5,-54.1905\" stroke=\"black\"/>\n",
       "<text font-family=\"Times,serif\" font-size=\"14.00\" text-anchor=\"middle\" x=\"134\" y=\"-65.8\">fired</text>\n",
       "</g>\n",
       "<!-- Restaurant Closed&#45;&gt;initial -->\n",
       "<g class=\"edge\" id=\"edge6\"><title>Restaurant Closed-&gt;initial</title>\n",
       "<path d=\"M329.579,-131.089C324.768,-141.184 317.929,-153.92 310,-164 295.897,-181.928 278.633,-199.372 261.643,-214.828\" fill=\"none\" stroke=\"black\"/>\n",
       "<polygon fill=\"black\" points=\"258.987,-212.508 253.868,-221.784 263.655,-217.725 258.987,-212.508\" stroke=\"black\"/>\n",
       "<text font-family=\"Times,serif\" font-size=\"14.00\" text-anchor=\"middle\" x=\"311\" y=\"-196.3\">opens</text>\n",
       "</g>\n",
       "</g>\n",
       "</svg>"
      ],
      "text/plain": [
       "<IPython.core.display.SVG object>"
      ]
     },
     "metadata": {},
     "output_type": "display_data"
    }
   ],
   "source": [
    "G = pgv.AGraph(directed=True)\n",
    "\n",
    "G = pgv.AGraph(compound=True,directed=True)\n",
    "\n",
    "sub = G.add_subgraph( name='cluster_1', label='Restaurant Open', rank='same')\n",
    "\n",
    "sa = style_attributes['node']['initial']\n",
    "sub.add_node( 'initial', label='', **sa)\n",
    "\n",
    "sub.add_node('Loitering')\n",
    "sub.add_node('Serving Customer')\n",
    "\n",
    "sub.add_edge('initial','Loitering')\n",
    "sub.add_edge('Loitering', 'Serving Customer', label='Customer Waves')\n",
    "sub.add_edge('Serving Customer','Loitering',label='Customer Orders')\n",
    "\n",
    "G.add_node( 'Restaurant Closed' )\n",
    "G.add_node( 'final', label='', **style_attributes['node']['final'])\n",
    "\n",
    "G.add_edge('Loitering','Restaurant Closed', label='closes', ltail='cluster_1')\n",
    "G.add_edge('Restaurant Closed', 'initial', label='opens', lhead='cluster_1')\n",
    "G.add_edge('Serving Customer', 'final', label='fired', ltail='cluster_1')\n",
    "\n",
    "draw_graph(G)"
   ]
  },
  {
   "cell_type": "code",
   "execution_count": null,
   "metadata": {
    "collapsed": true
   },
   "outputs": [],
   "source": []
  }
 ],
 "metadata": {
  "kernelspec": {
   "display_name": "Python 3",
   "language": "python",
   "name": "python3"
  },
  "language_info": {
   "codemirror_mode": {
    "name": "ipython",
    "version": 3
   },
   "file_extension": ".py",
   "mimetype": "text/x-python",
   "name": "python",
   "nbconvert_exporter": "python",
   "pygments_lexer": "ipython3",
   "version": "3.3.5"
  }
 },
 "nbformat": 4,
 "nbformat_minor": 0
}
