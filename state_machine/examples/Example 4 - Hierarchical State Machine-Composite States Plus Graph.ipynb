{
 "cells": [
  {
   "cell_type": "markdown",
   "metadata": {},
   "source": [
    "# Example State Machine Usage\n",
    "\n",
    "## Hierarchical State Machine\n",
    "\n",
    "Demonstrating use of the CompositeState class."
   ]
  },
  {
   "cell_type": "code",
   "execution_count": 21,
   "metadata": {
    "collapsed": false
   },
   "outputs": [],
   "source": [
    "from state_machine import StateMachine, State, Event, CompositeState, PseudoState, display_machine\n",
    "import state_machine.diagrams as diagrams"
   ]
  },
  {
   "cell_type": "code",
   "execution_count": 22,
   "metadata": {
    "collapsed": false
   },
   "outputs": [
    {
     "name": "stderr",
     "output_type": "stream",
     "text": [
      "INFO:default:Creating state of type <class 'state_machine.composite_state.CompositeState'>\n",
      "INFO:default:Creating state of type <class 'state_machine.state.State'>\n",
      "INFO:default:Creating state of type <class 'state_machine.state.FinalState'>\n"
     ]
    }
   ],
   "source": [
    "from state_machine import Event, State, StateMachine, CompositeState, FinalState\n",
    "from mock import MagicMock\n",
    "\n",
    "chatbot = StateMachine('chatbot')\n",
    "active_state = chatbot.create_state('active', CompositeState)\n",
    "sleeping_state = chatbot.create_state('sleeping', State)\n",
    "final_state = chatbot.create_state('final', FinalState)\n",
    "\n",
    "chatbot.initial_state=active_state\n",
    "active_state.add_transition_to(sleeping_state, 'sunset')\n",
    "active_state.add_transition_to(final_state, 'bandwidth exceeded')\n",
    "\n",
    "sleeping_state.add_transition_to(active_state, 'sunrise')\n",
    "sleeping_state.add_transition_to(final_state, 'power off')"
   ]
  },
  {
   "cell_type": "code",
   "execution_count": 23,
   "metadata": {
    "collapsed": false
   },
   "outputs": [
    {
     "name": "stderr",
     "output_type": "stream",
     "text": [
      "INFO:default:Creating state of type <class 'state_machine.state.State'>\n",
      "INFO:default:Creating state of type <class 'state_machine.state.State'>\n",
      "INFO:default:Creating state of type <class 'state_machine.state.PseudoState'>\n",
      "INFO:default:Creating state of type <class 'state_machine.state.FinalState'>\n"
     ]
    }
   ],
   "source": [
    "def become_happy( event, state ):\n",
    "    state.logger.info('Becoming Happy')\n",
    "    \n",
    "def happy_message(event, state):\n",
    "    if event.name=='msg':\n",
    "        state.logger.info('Hello %s, I am happy', event.payload['from'])\n",
    "    \n",
    "def become_sad(event, state):\n",
    "    state.logger.info('Becoming Sad')\n",
    "    \n",
    "def sad_message(event, state):\n",
    "    if event.name=='msg':\n",
    "        state.logger.info('Hello %s, I am sad', event.payload['from'])\n",
    "        \n",
    "def sun_is_shining(event, state):\n",
    "    return True\n",
    "\n",
    "def clouds_are_looming(event, state):\n",
    "    return True\n",
    "\n",
    "def do_happy_dance(event, state):\n",
    "    return True\n",
    "\n",
    "def hang_head_in_shame(event, state):\n",
    "    return True\n",
    "\n",
    "happy_state = active_state.create_state('happy')\n",
    "happy_state.on_start = become_happy\n",
    "happy_state.on_run   = happy_message\n",
    "\n",
    "sad_state = active_state.create_state('sad')\n",
    "sad_state.on_start = become_sad\n",
    "sad_state.on_run = sad_message\n",
    "\n",
    "check_weather = active_state.create_state('check weather', PseudoState)\n",
    "check_weather.add_transition_to(happy_state, guard=sun_is_shining)\n",
    "check_weather.add_transition_to(sad_state, guard=clouds_are_looming)\n",
    "\n",
    "final_state = active_state.create_state( 'depressed', FinalState )\n",
    "\n",
    "happy_state.add_transition_to(sad_state, 'criticism', guard=clouds_are_looming, action=hang_head_in_shame)\n",
    "sad_state.add_transition_to(happy_state, 'praise', guard=sun_is_shining, action=do_happy_dance)\n",
    "sad_state.add_transition_to(final_state, 'excessive criticism')\n",
    "\n",
    "active_state.initial_state=check_weather\n",
    "active_state.initialise()\n",
    "\n",
    "sunrise=Event('sunrise')\n",
    "sunset=Event('sunset')\n",
    "\n",
    "hello = Event('msg',{'from':'Bernie'})\n",
    "\n",
    "criticism=Event('criticism')\n",
    "praise=Event('praise')"
   ]
  },
  {
   "cell_type": "code",
   "execution_count": 24,
   "metadata": {
    "collapsed": false
   },
   "outputs": [
    {
     "name": "stdout",
     "output_type": "stream",
     "text": [
      "Drawing active as a composite\n",
      "tail for State:active is cluster_active\n"
     ]
    },
    {
     "data": {
      "image/svg+xml": [
       "<svg height=\"338pt\" viewBox=\"0.00 0.00 944.50 338.00\" width=\"944pt\" xmlns=\"http://www.w3.org/2000/svg\" xmlns:xlink=\"http://www.w3.org/1999/xlink\">\n",
       "<g class=\"graph\" id=\"graph0\" transform=\"scale(1 1) rotate(0) translate(4 334)\">\n",
       "<title>%3</title>\n",
       "<polygon fill=\"white\" points=\"-4,4 -4,-334 940.499,-334 940.499,4 -4,4\" stroke=\"none\"/>\n",
       "<g class=\"cluster\" id=\"clust1\"><title>cluster_active</title>\n",
       "<polygon fill=\"none\" points=\"188.499,-8 188.499,-322 887.499,-322 887.499,-8 188.499,-8\" stroke=\"black\"/>\n",
       "<text font-family=\"Times,serif\" font-size=\"14.00\" text-anchor=\"middle\" x=\"537.999\" y=\"-306.8\">active</text>\n",
       "</g>\n",
       "<!-- sad -->\n",
       "<g class=\"node\" id=\"node1\"><title>sad</title>\n",
       "<ellipse cx=\"312.499\" cy=\"-121\" fill=\"none\" rx=\"27\" ry=\"18\" stroke=\"black\"/>\n",
       "<text font-family=\"Times,serif\" font-size=\"14.00\" text-anchor=\"middle\" x=\"312.499\" y=\"-117.3\">sad</text>\n",
       "</g>\n",
       "<!-- depressed -->\n",
       "<g class=\"node\" id=\"node4\"><title>depressed</title>\n",
       "<ellipse cx=\"214.499\" cy=\"-34\" fill=\"black\" rx=\"7\" ry=\"7\" stroke=\"black\"/>\n",
       "<ellipse cx=\"214.499\" cy=\"-34\" fill=\"none\" rx=\"11\" ry=\"11\" stroke=\"black\"/>\n",
       "</g>\n",
       "<!-- sad&#45;&gt;depressed -->\n",
       "<g class=\"edge\" id=\"edge4\"><title>sad-&gt;depressed</title>\n",
       "<path d=\"M285.781,-118.371C262.994,-115.412 231.465,-107.257 215.499,-85 209.33,-76.3996 208.809,-64.652 209.957,-54.7048\" fill=\"none\" stroke=\"black\"/>\n",
       "<polygon fill=\"black\" points=\"213.405,-55.3033 211.668,-44.8519 206.508,-54.1054 213.405,-55.3033\" stroke=\"black\"/>\n",
       "<text font-family=\"Times,serif\" font-size=\"14.00\" text-anchor=\"middle\" x=\"267.499\" y=\"-73.8\">excessive criticism</text>\n",
       "</g>\n",
       "<!-- happy -->\n",
       "<g class=\"node\" id=\"node5\"><title>happy</title>\n",
       "<ellipse cx=\"654.499\" cy=\"-34\" fill=\"none\" rx=\"32.4942\" ry=\"18\" stroke=\"black\"/>\n",
       "<text font-family=\"Times,serif\" font-size=\"14.00\" text-anchor=\"middle\" x=\"654.499\" y=\"-30.3\">happy</text>\n",
       "</g>\n",
       "<!-- sad&#45;&gt;happy -->\n",
       "<g class=\"edge\" id=\"edge5\"><title>sad-&gt;happy</title>\n",
       "<path d=\"M339.537,-120.415C408.025,-120.949 586.188,-118.952 632.499,-85 640.168,-79.3778 645.204,-70.4897 648.494,-61.7563\" fill=\"none\" stroke=\"black\"/>\n",
       "<polygon fill=\"black\" points=\"651.856,-62.7334 651.513,-52.1441 645.177,-60.6357 651.856,-62.7334\" stroke=\"black\"/>\n",
       "<text font-family=\"Times,serif\" font-size=\"14.00\" text-anchor=\"middle\" x=\"753.499\" y=\"-73.8\">praise[sun_is_shining]/do_happy_dance</text>\n",
       "</g>\n",
       "<!-- final -->\n",
       "<g class=\"node\" id=\"node7\"><title>final</title>\n",
       "<ellipse cx=\"40.4991\" cy=\"-34\" fill=\"black\" rx=\"7\" ry=\"7\" stroke=\"black\"/>\n",
       "<ellipse cx=\"40.4991\" cy=\"-34\" fill=\"none\" rx=\"11\" ry=\"11\" stroke=\"black\"/>\n",
       "</g>\n",
       "<!-- sad&#45;&gt;final -->\n",
       "<g class=\"edge\" id=\"edge3\"><title>sad-&gt;final</title>\n",
       "<path d=\"M188.631,-101.602C142.196,-94.4314 99.355,-87.3641 94.4991,-85 78.2048,-77.0671 63.389,-62.575 53.4157,-51.2277\" fill=\"none\" stroke=\"black\"/>\n",
       "<polygon fill=\"black\" points=\"55.8958,-48.7381 46.7887,-43.3241 50.5318,-53.2357 55.8958,-48.7381\" stroke=\"black\"/>\n",
       "<text font-family=\"Times,serif\" font-size=\"14.00\" text-anchor=\"middle\" x=\"150.499\" y=\"-73.8\">bandwidth exceeded</text>\n",
       "</g>\n",
       "<!-- sleeping -->\n",
       "<g class=\"node\" id=\"node8\"><title>sleeping</title>\n",
       "<ellipse cx=\"140.499\" cy=\"-121\" fill=\"none\" rx=\"40.0939\" ry=\"18\" stroke=\"black\"/>\n",
       "<text font-family=\"Times,serif\" font-size=\"14.00\" text-anchor=\"middle\" x=\"140.499\" y=\"-117.3\">sleeping</text>\n",
       "</g>\n",
       "<!-- sad&#45;&gt;sleeping -->\n",
       "<g class=\"edge\" id=\"edge6\"><title>sad-&gt;sleeping</title>\n",
       "<path d=\"M188.499,-121C186.581,-121 184.662,-121 182.744,-121\" fill=\"none\" stroke=\"black\"/>\n",
       "<polygon fill=\"black\" points=\"190.826,-117.501 180.825,-121 190.825,-124.501 190.826,-117.501\" stroke=\"black\"/>\n",
       "<text font-family=\"Times,serif\" font-size=\"14.00\" text-anchor=\"middle\" x=\"233.147\" y=\"-127.8\">sunset</text>\n",
       "</g>\n",
       "<!-- initial_active -->\n",
       "<g class=\"node\" id=\"node2\"><title>initial_active</title>\n",
       "<ellipse cx=\"312.499\" cy=\"-284\" fill=\"black\" rx=\"7\" ry=\"7\" stroke=\"black\"/>\n",
       "</g>\n",
       "<!-- check weather -->\n",
       "<g class=\"node\" id=\"node3\"><title>check weather</title>\n",
       "<polygon fill=\"none\" points=\"312.499,-226 225.359,-208 312.499,-190 399.639,-208 312.499,-226\" stroke=\"black\"/>\n",
       "<text font-family=\"Times,serif\" font-size=\"14.00\" text-anchor=\"middle\" x=\"312.499\" y=\"-204.3\">check weather</text>\n",
       "</g>\n",
       "<!-- initial_active&#45;&gt;check weather -->\n",
       "<g class=\"edge\" id=\"edge1\"><title>initial_active-&gt;check weather</title>\n",
       "<path d=\"M312.499,-276.944C312.499,-268.111 312.499,-251.136 312.499,-236.364\" fill=\"none\" stroke=\"black\"/>\n",
       "<polygon fill=\"black\" points=\"315.999,-236.144 312.499,-226.144 308.999,-236.144 315.999,-236.144\" stroke=\"black\"/>\n",
       "<text font-family=\"Times,serif\" font-size=\"14.00\" text-anchor=\"middle\" x=\"324.499\" y=\"-247.8\">start</text>\n",
       "</g>\n",
       "<!-- check weather&#45;&gt;sad -->\n",
       "<g class=\"edge\" id=\"edge7\"><title>check weather-&gt;sad</title>\n",
       "<path d=\"M312.499,-189.799C312.499,-178.163 312.499,-162.548 312.499,-149.237\" fill=\"none\" stroke=\"black\"/>\n",
       "<polygon fill=\"black\" points=\"315.999,-149.175 312.499,-139.175 308.999,-149.175 315.999,-149.175\" stroke=\"black\"/>\n",
       "<text font-family=\"Times,serif\" font-size=\"14.00\" text-anchor=\"middle\" x=\"372.999\" y=\"-160.8\">[clouds_are_looming]</text>\n",
       "</g>\n",
       "<!-- check weather&#45;&gt;happy -->\n",
       "<g class=\"edge\" id=\"edge8\"><title>check weather-&gt;happy</title>\n",
       "<path d=\"M375.02,-202.792C506.663,-192.496 805.341,-161.092 866.499,-85 870.676,-79.8037 870.812,-75.0835 866.499,-70 845.243,-44.9474 752.868,-37.8003 697.307,-35.7791\" fill=\"none\" stroke=\"black\"/>\n",
       "<polygon fill=\"black\" points=\"697.16,-32.2726 687.053,-35.4488 696.935,-39.269 697.16,-32.2726\" stroke=\"black\"/>\n",
       "<text font-family=\"Times,serif\" font-size=\"14.00\" text-anchor=\"middle\" x=\"890.999\" y=\"-117.3\">[sun_is_shining]</text>\n",
       "</g>\n",
       "<!-- happy&#45;&gt;sad -->\n",
       "<g class=\"edge\" id=\"edge9\"><title>happy-&gt;sad</title>\n",
       "<path d=\"M622.021,-34.8131C550.872,-34.9962 383.973,-38.8365 338.499,-70 330.32,-75.6052 324.542,-84.6083 320.546,-93.4406\" fill=\"none\" stroke=\"black\"/>\n",
       "<polygon fill=\"black\" points=\"317.273,-92.2011 316.88,-102.789 323.789,-94.7569 317.273,-92.2011\" stroke=\"black\"/>\n",
       "<text font-family=\"Times,serif\" font-size=\"14.00\" text-anchor=\"middle\" x=\"483.499\" y=\"-73.8\">criticism[clouds_are_looming]/hang_head_in_shame</text>\n",
       "</g>\n",
       "<!-- initial_chatbot -->\n",
       "<g class=\"node\" id=\"node6\"><title>initial_chatbot</title>\n",
       "<ellipse cx=\"902.499\" cy=\"-208\" fill=\"black\" rx=\"7\" ry=\"7\" stroke=\"black\"/>\n",
       "</g>\n",
       "<!-- initial_chatbot&#45;&gt;sad -->\n",
       "<g class=\"edge\" id=\"edge2\"><title>initial_chatbot-&gt;sad</title>\n",
       "<path d=\"M900.344,-201.294C899.294,-199.006 897.846,-196.37 895.037,-193.513\" fill=\"none\" stroke=\"black\"/>\n",
       "<polygon fill=\"black\" points=\"897.115,-190.696 887.053,-187.378 892.85,-196.247 897.115,-190.696\" stroke=\"black\"/>\n",
       "<text font-family=\"Times,serif\" font-size=\"14.00\" text-anchor=\"middle\" x=\"860.499\" y=\"-160.8\">start</text>\n",
       "</g>\n",
       "<!-- sleeping&#45;&gt;check weather -->\n",
       "<g class=\"edge\" id=\"edge11\"><title>sleeping-&gt;check weather</title>\n",
       "<path d=\"M166.624,-134.911C170.632,-136.891 174.984,-139.042 179.596,-141.321\" fill=\"none\" stroke=\"black\"/>\n",
       "<polygon fill=\"black\" points=\"178.245,-144.558 188.761,-145.85 181.347,-138.282 178.245,-144.558\" stroke=\"black\"/>\n",
       "<text font-family=\"Times,serif\" font-size=\"14.00\" text-anchor=\"middle\" x=\"256.999\" y=\"-160.8\">sunrise</text>\n",
       "</g>\n",
       "<!-- sleeping&#45;&gt;final -->\n",
       "<g class=\"edge\" id=\"edge10\"><title>sleeping-&gt;final</title>\n",
       "<path d=\"M101.894,-115.421C65.7341,-110.244 15.5076,-100.462 3.49914,-85 -6.71602,-71.847 8.80392,-56.3959 22.7596,-46.1888\" fill=\"none\" stroke=\"black\"/>\n",
       "<polygon fill=\"black\" points=\"25.1074,-48.8255 31.4184,-40.3154 21.1778,-43.0325 25.1074,-48.8255\" stroke=\"black\"/>\n",
       "<text font-family=\"Times,serif\" font-size=\"14.00\" text-anchor=\"middle\" x=\"30.4991\" y=\"-73.8\">power off</text>\n",
       "</g>\n",
       "</g>\n",
       "</svg>"
      ],
      "text/plain": [
       "<IPython.core.display.SVG object>"
      ]
     },
     "metadata": {},
     "output_type": "display_data"
    }
   ],
   "source": [
    "display_machine(chatbot)"
   ]
  },
  {
   "cell_type": "markdown",
   "metadata": {},
   "source": [
    "On sunset, the chat bot goes to sleep, so criticism and praise have no affect on it."
   ]
  },
  {
   "cell_type": "code",
   "execution_count": 25,
   "metadata": {
    "collapsed": false
   },
   "outputs": [
    {
     "name": "stderr",
     "output_type": "stream",
     "text": [
      "INFO:default:active transitioning to state State:happy\n",
      "INFO:default:Becoming Happy\n",
      "INFO:default:active transitioning to state State:sad\n",
      "INFO:default:Becoming Sad\n",
      "INFO:default:Hello Bernie, I am sad\n",
      "INFO:default:active transitioning to state State:happy\n",
      "INFO:default:Becoming Happy\n",
      "INFO:default:Hello Bernie, I am happy\n"
     ]
    }
   ],
   "source": [
    "chatbot.initialise()\n",
    "\n",
    "# Send the bot to sleep\n",
    "chatbot.notify(sunset)\n",
    "\n",
    "#It is unresponsive\n",
    "chatbot.notify(criticism)\n",
    "chatbot.notify(hello)\n",
    "chatbot.notify(praise)\n",
    "chatbot.notify(hello)"
   ]
  },
  {
   "cell_type": "markdown",
   "metadata": {},
   "source": [
    "On sunrise, the chatbot wakes. so criticism or praise change the internal state."
   ]
  },
  {
   "cell_type": "code",
   "execution_count": 26,
   "metadata": {
    "collapsed": false
   },
   "outputs": [
    {
     "name": "stderr",
     "output_type": "stream",
     "text": [
      "INFO:default:active transitioning to state State:sad\n",
      "INFO:default:Becoming Sad\n",
      "INFO:default:Hello Bernie, I am sad\n",
      "INFO:default:active transitioning to state State:happy\n",
      "INFO:default:Becoming Happy\n",
      "INFO:default:Hello Bernie, I am happy\n"
     ]
    }
   ],
   "source": [
    "# Wake up the chat bot\n",
    "chatbot.notify(sunrise)\n",
    "\n",
    "# It is responsive\n",
    "chatbot.notify(criticism)\n",
    "chatbot.notify(hello)\n",
    "chatbot.notify(praise)\n",
    "chatbot.notify(hello)"
   ]
  },
  {
   "cell_type": "code",
   "execution_count": null,
   "metadata": {
    "collapsed": false
   },
   "outputs": [],
   "source": []
  },
  {
   "cell_type": "code",
   "execution_count": null,
   "metadata": {
    "collapsed": true
   },
   "outputs": [],
   "source": []
  }
 ],
 "metadata": {
  "kernelspec": {
   "display_name": "Python 3",
   "language": "python",
   "name": "python3"
  },
  "language_info": {
   "codemirror_mode": {
    "name": "ipython",
    "version": 3
   },
   "file_extension": ".py",
   "mimetype": "text/x-python",
   "name": "python",
   "nbconvert_exporter": "python",
   "pygments_lexer": "ipython3",
   "version": "3.3.5"
  }
 },
 "nbformat": 4,
 "nbformat_minor": 0
}
