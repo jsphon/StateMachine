{
 "cells": [
  {
   "cell_type": "markdown",
   "metadata": {},
   "source": [
    "# Example State Machine Usage\n",
    "\n"
   ]
  },
  {
   "cell_type": "code",
   "execution_count": 1,
   "metadata": {
    "collapsed": true
   },
   "outputs": [],
   "source": [
    "from state_machine import StateMachine, State, Model, Condition, AlwaysTrue, AlwaysFalse, Event"
   ]
  },
  {
   "cell_type": "markdown",
   "metadata": {},
   "source": [
    "Make some conditions. Not that PhoneRings listens for 'phone', and CustomerWants listerns for 'customer'."
   ]
  },
  {
   "cell_type": "code",
   "execution_count": 2,
   "metadata": {
    "collapsed": false
   },
   "outputs": [],
   "source": [
    "class PhoneRings(Condition):\n",
    "    \n",
    "    listens_for='phone'\n",
    "    \n",
    "    def __init__(self):\n",
    "        self.name='Phone Rings'\n",
    "        \n",
    "    def is_triggered(self, event):\n",
    "        return event.payload=='ring ring'\n",
    "    \n",
    "PHONE_RINGS = PhoneRings()\n",
    "assert PHONE_RINGS.is_triggered(Event(payload='ring ring'))==True\n",
    "assert PHONE_RINGS.is_triggered(Event(payload='silence'))==False"
   ]
  },
  {
   "cell_type": "code",
   "execution_count": 3,
   "metadata": {
    "collapsed": false
   },
   "outputs": [],
   "source": [
    "class CustomerWants(Condition):\n",
    "    listens_for='customer'\n",
    "    def __init__(self, wants):\n",
    "        self.name='Wants %s'%wants\n",
    "        self.wants=wants\n",
    "        \n",
    "    def is_triggered(self, event):\n",
    "        return self.wants==event.payload['wants']\n",
    "\n",
    "CUSTOMER_WANTS_PIZZA   = CustomerWants('pizza')\n",
    "CUSTOMER_WANTS_LASAGNE = CustomerWants('lasagne')\n",
    "\n",
    "assert CUSTOMER_WANTS_PIZZA.is_triggered(Event('customer',{'wants':'lasagne'}))==False\n",
    "assert CUSTOMER_WANTS_PIZZA.is_triggered(Event('customer',{'wants':'pizza'}))==True"
   ]
  },
  {
   "cell_type": "code",
   "execution_count": 15,
   "metadata": {
    "collapsed": true
   },
   "outputs": [],
   "source": [
    "class EnterPizzaOrder(State):\n",
    "    def on_start(self, event):\n",
    "        print('Entering Pizza Order')\n",
    "        \n",
    "class EnterLasagneOrder(State):\n",
    "    def on_start(self, event):\n",
    "        print('Entering Lasagne Order')"
   ]
  },
  {
   "cell_type": "code",
   "execution_count": 16,
   "metadata": {
    "collapsed": true
   },
   "outputs": [],
   "source": [
    "receptionist = StateMachine( 'Receptionist' )\n",
    "\n",
    "wait_for_phone    = State('Wait For Phone')\n",
    "take_order        = State('Take Order')\n",
    "\n",
    "enter_lasagne_order = EnterLasagneOrder( 'Enter Lasagne Order' )\n",
    "enter_pizza_order   = EnterPizzaOrder('Enter Pizza Order' )\n",
    "\n",
    "wait_for_phone.add_transition_to(take_order,PHONE_RINGS)\n",
    "take_order.add_transition_to( enter_lasagne_order, CUSTOMER_WANTS_LASAGNE )\n",
    "take_order.add_transition_to( enter_pizza_order, CUSTOMER_WANTS_PIZZA )"
   ]
  },
  {
   "cell_type": "markdown",
   "metadata": {},
   "source": [
    "### Receptionist waits, but only receives silence"
   ]
  },
  {
   "cell_type": "markdown",
   "metadata": {},
   "source": [
    "Broadcast silence on the phone."
   ]
  },
  {
   "cell_type": "code",
   "execution_count": 17,
   "metadata": {
    "collapsed": false
   },
   "outputs": [],
   "source": [
    "evt = Event('phone','silence')\n",
    "receptionist.set_state(wait_for_phone)\n",
    "receptionist.handle_event(evt)\n",
    "assert wait_for_phone==receptionist.current_state"
   ]
  },
  {
   "cell_type": "markdown",
   "metadata": {},
   "source": [
    "### Phone rings, so receptionist takes order"
   ]
  },
  {
   "cell_type": "markdown",
   "metadata": {},
   "source": [
    "Broadcast a ringing phone."
   ]
  },
  {
   "cell_type": "code",
   "execution_count": 18,
   "metadata": {
    "collapsed": false
   },
   "outputs": [
    {
     "name": "stderr",
     "output_type": "stream",
     "text": [
      "INFO:default:Starting state Take Order\n",
      "INFO:default:Take Order started successfully with result: None\n"
     ]
    }
   ],
   "source": [
    "evt = Event('phone','ring ring')\n",
    "receptionist.set_state(wait_for_phone)\n",
    "receptionist.handle_event(evt)\n",
    "assert take_order==receptionist.current_state, receptionist.current_state"
   ]
  },
  {
   "cell_type": "markdown",
   "metadata": {},
   "source": [
    "### Customer Wants Pizza"
   ]
  },
  {
   "cell_type": "markdown",
   "metadata": {},
   "source": [
    "Take an order from a customer who wants pizza."
   ]
  },
  {
   "cell_type": "code",
   "execution_count": 19,
   "metadata": {
    "collapsed": false
   },
   "outputs": [
    {
     "name": "stderr",
     "output_type": "stream",
     "text": [
      "INFO:default:Starting state Enter Pizza Order\n",
      "INFO:default:Enter Pizza Order started successfully with result: None\n"
     ]
    },
    {
     "name": "stdout",
     "output_type": "stream",
     "text": [
      "Entering Pizza Order\n"
     ]
    }
   ],
   "source": [
    "evt = Event('customer',{'wants':'pizza'})\n",
    "receptionist.set_state( take_order )\n",
    "receptionist.handle_event(evt)\n",
    "assert enter_pizza_order==receptionist.current_state"
   ]
  },
  {
   "cell_type": "markdown",
   "metadata": {},
   "source": [
    "### Customer Wants Lasagne"
   ]
  },
  {
   "cell_type": "markdown",
   "metadata": {},
   "source": [
    "Take an order from a customer who wants pizza."
   ]
  },
  {
   "cell_type": "code",
   "execution_count": 24,
   "metadata": {
    "collapsed": false
   },
   "outputs": [
    {
     "name": "stderr",
     "output_type": "stream",
     "text": [
      "INFO:default:Starting state Enter Lasagne Order\n",
      "INFO:default:Enter Lasagne Order started successfully with result: None\n"
     ]
    },
    {
     "name": "stdout",
     "output_type": "stream",
     "text": [
      "Entering Lasagne Order\n"
     ]
    }
   ],
   "source": [
    "evt = Event('customer',{'wants':'lasagne'})\n",
    "receptionist.set_state( take_order )\n",
    "receptionist.handle_event(evt)\n",
    "assert enter_lasagne_order==receptionist.current_state"
   ]
  },
  {
   "cell_type": "markdown",
   "metadata": {},
   "source": [
    "### The Full Pizza Sequence"
   ]
  },
  {
   "cell_type": "markdown",
   "metadata": {},
   "source": [
    "Test a ringing phone, followed by a customer who wants pizza."
   ]
  },
  {
   "cell_type": "code",
   "execution_count": 29,
   "metadata": {
    "collapsed": false
   },
   "outputs": [
    {
     "name": "stderr",
     "output_type": "stream",
     "text": [
      "INFO:default:Starting state Take Order\n",
      "INFO:default:Take Order started successfully with result: None\n",
      "INFO:default:Starting state Enter Pizza Order\n",
      "INFO:default:Enter Pizza Order started successfully with result: None\n"
     ]
    },
    {
     "name": "stdout",
     "output_type": "stream",
     "text": [
      "Entering Pizza Order\n"
     ]
    }
   ],
   "source": [
    "receptionist.set_state( wait_for_phone )\n",
    "receptionist.handle_event(Event('phone', 'silence'))\n",
    "receptionist.handle_event(Event('phone', 'ring ring'))\n",
    "receptionist.handle_event(Event('customer', {'wants':'pizza'}))\n",
    "assert enter_pizza_order==receptionist.current_state"
   ]
  },
  {
   "cell_type": "markdown",
   "metadata": {},
   "source": [
    "### The Full Pizza Sequence"
   ]
  },
  {
   "cell_type": "markdown",
   "metadata": {},
   "source": [
    "Test a ringing phone, followed by a customer who wants lasagne."
   ]
  },
  {
   "cell_type": "code",
   "execution_count": 30,
   "metadata": {
    "collapsed": false
   },
   "outputs": [
    {
     "name": "stderr",
     "output_type": "stream",
     "text": [
      "INFO:default:Starting state Take Order\n",
      "INFO:default:Take Order started successfully with result: None\n",
      "INFO:default:Starting state Enter Lasagne Order\n",
      "INFO:default:Enter Lasagne Order started successfully with result: None\n"
     ]
    },
    {
     "name": "stdout",
     "output_type": "stream",
     "text": [
      "Entering Lasagne Order\n"
     ]
    }
   ],
   "source": [
    "receptionist.set_state( wait_for_phone )\n",
    "receptionist.handle_event(Event('phone', 'silence'))\n",
    "receptionist.handle_event(Event('phone', 'ring ring'))\n",
    "receptionist.handle_event(Event('customer', {'wants':'lasagne'}))\n",
    "assert enter_lasagne_order==receptionist.current_state"
   ]
  },
  {
   "cell_type": "code",
   "execution_count": null,
   "metadata": {
    "collapsed": true
   },
   "outputs": [],
   "source": []
  }
 ],
 "metadata": {
  "kernelspec": {
   "display_name": "Python 3",
   "language": "python",
   "name": "python3"
  },
  "language_info": {
   "codemirror_mode": {
    "name": "ipython",
    "version": 3
   },
   "file_extension": ".py",
   "mimetype": "text/x-python",
   "name": "python",
   "nbconvert_exporter": "python",
   "pygments_lexer": "ipython3",
   "version": "3.3.5"
  }
 },
 "nbformat": 4,
 "nbformat_minor": 0
}
