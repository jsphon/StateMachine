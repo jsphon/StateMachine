{
 "cells": [
  {
   "cell_type": "markdown",
   "metadata": {},
   "source": [
    "# Example State Machine Usage\n",
    "\n"
   ]
  },
  {
   "cell_type": "code",
   "execution_count": 9,
   "metadata": {
    "collapsed": true
   },
   "outputs": [],
   "source": [
    "from state_machine import StateMachine, State, Model, Event"
   ]
  },
  {
   "cell_type": "code",
   "execution_count": 10,
   "metadata": {
    "collapsed": false
   },
   "outputs": [
    {
     "name": "stderr",
     "output_type": "stream",
     "text": [
      "INFO:default:Creating state of type <class 'state_machine.state.State'>\n",
      "INFO:default:Creating state of type <class 'state_machine.state.State'>\n",
      "INFO:default:Creating state of type <class 'state_machine.state.State'>\n",
      "INFO:default:Creating state of type <class 'state_machine.state.State'>\n"
     ]
    }
   ],
   "source": [
    "receptionist = StateMachine( 'Receptionist' )\n",
    "\n",
    "wait_for_phone      = receptionist.create_state('Wait For Phone')\n",
    "take_order          = receptionist.create_state('Take Order')\n",
    "\n",
    "enter_lasagne_order = receptionist.create_state('Enter Lasagne Order')\n",
    "enter_pizza_order   = receptionist.create_state('Enter Pizza Order')\n",
    "\n",
    "wait_for_phone.add_transition_to(take_order, 'phone rings')\n",
    "take_order.add_transition_to( enter_lasagne_order, 'customer_wants_lasagne')\n",
    "take_order.add_transition_to( enter_pizza_order, 'customer_wants_pizza' )"
   ]
  },
  {
   "cell_type": "markdown",
   "metadata": {},
   "source": [
    "### Receptionist waits, but only receives silence"
   ]
  },
  {
   "cell_type": "markdown",
   "metadata": {},
   "source": [
    "Broadcast silence on the phone."
   ]
  },
  {
   "cell_type": "code",
   "execution_count": 11,
   "metadata": {
    "collapsed": false
   },
   "outputs": [],
   "source": [
    "evt = Event('phone is silent')\n",
    "receptionist.set_state(wait_for_phone)\n",
    "receptionist.notify(evt)\n",
    "assert wait_for_phone==receptionist.current_state"
   ]
  },
  {
   "cell_type": "markdown",
   "metadata": {},
   "source": [
    "### Phone rings, so receptionist takes order"
   ]
  },
  {
   "cell_type": "markdown",
   "metadata": {},
   "source": [
    "Broadcast a ringing phone."
   ]
  },
  {
   "cell_type": "code",
   "execution_count": 12,
   "metadata": {
    "collapsed": false
   },
   "outputs": [
    {
     "name": "stderr",
     "output_type": "stream",
     "text": [
      "INFO:default:Starting state Take Order\n"
     ]
    }
   ],
   "source": [
    "evt = Event('phone rings')\n",
    "receptionist.set_state(wait_for_phone)\n",
    "receptionist.notify(evt)\n",
    "assert take_order==receptionist.current_state, receptionist.current_state"
   ]
  },
  {
   "cell_type": "markdown",
   "metadata": {},
   "source": [
    "### Customer Wants Pizza"
   ]
  },
  {
   "cell_type": "markdown",
   "metadata": {},
   "source": [
    "Take an order from a customer who wants pizza."
   ]
  },
  {
   "cell_type": "code",
   "execution_count": 13,
   "metadata": {
    "collapsed": false
   },
   "outputs": [
    {
     "name": "stderr",
     "output_type": "stream",
     "text": [
      "INFO:default:Starting state Enter Pizza Order\n"
     ]
    }
   ],
   "source": [
    "evt = Event('customer_wants_pizza')\n",
    "receptionist.set_state( take_order )\n",
    "receptionist.notify(evt)\n",
    "assert enter_pizza_order==receptionist.current_state"
   ]
  },
  {
   "cell_type": "markdown",
   "metadata": {},
   "source": [
    "### Customer Wants Lasagne"
   ]
  },
  {
   "cell_type": "markdown",
   "metadata": {},
   "source": [
    "Take an order from a customer who wants pizza."
   ]
  },
  {
   "cell_type": "code",
   "execution_count": 14,
   "metadata": {
    "collapsed": false
   },
   "outputs": [
    {
     "name": "stderr",
     "output_type": "stream",
     "text": [
      "INFO:default:Starting state Enter Lasagne Order\n"
     ]
    }
   ],
   "source": [
    "evt = Event('customer_wants_lasagne')\n",
    "receptionist.set_state( take_order )\n",
    "receptionist.notify(evt)\n",
    "assert enter_lasagne_order==receptionist.current_state"
   ]
  },
  {
   "cell_type": "markdown",
   "metadata": {},
   "source": [
    "### The Full Pizza Sequence"
   ]
  },
  {
   "cell_type": "markdown",
   "metadata": {},
   "source": [
    "Test a ringing phone, followed by a customer who wants pizza."
   ]
  },
  {
   "cell_type": "code",
   "execution_count": 15,
   "metadata": {
    "collapsed": false
   },
   "outputs": [
    {
     "name": "stderr",
     "output_type": "stream",
     "text": [
      "INFO:default:Starting state Take Order\n",
      "INFO:default:Starting state Enter Pizza Order\n"
     ]
    }
   ],
   "source": [
    "receptionist.set_state( wait_for_phone )\n",
    "receptionist.notify(Event('silence'))\n",
    "receptionist.notify(Event('phone rings'))\n",
    "receptionist.notify(Event('customer_wants_pizza'))\n",
    "assert enter_pizza_order==receptionist.current_state"
   ]
  },
  {
   "cell_type": "markdown",
   "metadata": {},
   "source": [
    "### The Full Pizza Sequence"
   ]
  },
  {
   "cell_type": "markdown",
   "metadata": {},
   "source": [
    "Test a ringing phone, followed by a customer who wants lasagne."
   ]
  },
  {
   "cell_type": "code",
   "execution_count": 16,
   "metadata": {
    "collapsed": false
   },
   "outputs": [
    {
     "name": "stderr",
     "output_type": "stream",
     "text": [
      "INFO:default:Starting state Take Order\n",
      "INFO:default:Starting state Enter Lasagne Order\n"
     ]
    }
   ],
   "source": [
    "receptionist.set_state( wait_for_phone )\n",
    "receptionist.notify(Event('silence'))\n",
    "receptionist.notify(Event('phone rings'))\n",
    "receptionist.notify(Event('customer_wants_lasagne'))\n",
    "assert enter_lasagne_order==receptionist.current_state"
   ]
  }
 ],
 "metadata": {
  "kernelspec": {
   "display_name": "Python 3",
   "language": "python",
   "name": "python3"
  },
  "language_info": {
   "codemirror_mode": {
    "name": "ipython",
    "version": 3
   },
   "file_extension": ".py",
   "mimetype": "text/x-python",
   "name": "python",
   "nbconvert_exporter": "python",
   "pygments_lexer": "ipython3",
   "version": "3.3.5"
  }
 },
 "nbformat": 4,
 "nbformat_minor": 0
}
