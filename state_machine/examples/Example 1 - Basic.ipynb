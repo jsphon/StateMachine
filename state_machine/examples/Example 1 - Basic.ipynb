{
 "cells": [
  {
   "cell_type": "markdown",
   "metadata": {},
   "source": [
    "# Example State Machine Usage\n",
    "\n"
   ]
  },
  {
   "cell_type": "code",
   "execution_count": 18,
   "metadata": {
    "collapsed": false
   },
   "outputs": [],
   "source": [
    "from state_machine import StateMachine, State, Event, display_machine"
   ]
  },
  {
   "cell_type": "code",
   "execution_count": 19,
   "metadata": {
    "collapsed": false
   },
   "outputs": [
    {
     "name": "stderr",
     "output_type": "stream",
     "text": [
      "INFO:default:Creating state of type <class 'state_machine.state.State'>\n",
      "INFO:default:Creating state of type <class 'state_machine.state.State'>\n",
      "INFO:default:Creating state of type <class 'state_machine.state.State'>\n",
      "INFO:default:Creating state of type <class 'state_machine.state.State'>\n"
     ]
    }
   ],
   "source": [
    "receptionist = StateMachine( 'Receptionist' )\n",
    "\n",
    "wait_for_phone      = receptionist.create_state('Wait For Phone')\n",
    "take_order          = receptionist.create_state('Take Order')\n",
    "\n",
    "enter_lasagne_order = receptionist.create_state('Enter Lasagne Order')\n",
    "enter_pizza_order   = receptionist.create_state('Enter Pizza Order')\n",
    "\n",
    "wait_for_phone.add_transition_to(take_order, 'phone rings')\n",
    "take_order.add_transition_to( enter_lasagne_order, 'customer_wants_lasagne')\n",
    "take_order.add_transition_to( enter_pizza_order, 'customer_wants_pizza' )\n",
    "\n",
    "receptionist.initial_state = wait_for_phone"
   ]
  },
  {
   "cell_type": "code",
   "execution_count": 20,
   "metadata": {
    "collapsed": false
   },
   "outputs": [
    {
     "data": {
      "image/svg+xml": [
       "<svg height=\"283pt\" viewBox=\"0.00 0.00 382.49 283.00\" width=\"382pt\" xmlns=\"http://www.w3.org/2000/svg\" xmlns:xlink=\"http://www.w3.org/1999/xlink\">\n",
       "<g class=\"graph\" id=\"graph0\" transform=\"scale(1 1) rotate(0) translate(4 279)\">\n",
       "<title>%3</title>\n",
       "<polygon fill=\"white\" points=\"-4,4 -4,-279 378.493,-279 378.493,4 -4,4\" stroke=\"none\"/>\n",
       "<!-- initial_Receptionist -->\n",
       "<g class=\"node\" id=\"node1\"><title>initial_Receptionist</title>\n",
       "<ellipse cx=\"172.493\" cy=\"-268\" fill=\"black\" rx=\"7\" ry=\"7\" stroke=\"black\"/>\n",
       "</g>\n",
       "<!-- Wait For Phone -->\n",
       "<g class=\"node\" id=\"node2\"><title>Wait For Phone</title>\n",
       "<ellipse cx=\"172.493\" cy=\"-192\" fill=\"none\" rx=\"67.6881\" ry=\"18\" stroke=\"black\"/>\n",
       "<text font-family=\"Times,serif\" font-size=\"14.00\" text-anchor=\"middle\" x=\"172.493\" y=\"-188.3\">Wait For Phone</text>\n",
       "</g>\n",
       "<!-- initial_Receptionist&#45;&gt;Wait For Phone -->\n",
       "<g class=\"edge\" id=\"edge1\"><title>initial_Receptionist-&gt;Wait For Phone</title>\n",
       "<path d=\"M172.493,-260.944C172.493,-252.111 172.493,-235.136 172.493,-220.364\" fill=\"none\" stroke=\"black\"/>\n",
       "<polygon fill=\"black\" points=\"175.993,-220.144 172.493,-210.144 168.993,-220.144 175.993,-220.144\" stroke=\"black\"/>\n",
       "<text font-family=\"Times,serif\" font-size=\"14.00\" text-anchor=\"middle\" x=\"184.493\" y=\"-231.8\">start</text>\n",
       "</g>\n",
       "<!-- Take Order -->\n",
       "<g class=\"node\" id=\"node3\"><title>Take Order</title>\n",
       "<ellipse cx=\"172.493\" cy=\"-105\" fill=\"none\" rx=\"51.1914\" ry=\"18\" stroke=\"black\"/>\n",
       "<text font-family=\"Times,serif\" font-size=\"14.00\" text-anchor=\"middle\" x=\"172.493\" y=\"-101.3\">Take Order</text>\n",
       "</g>\n",
       "<!-- Wait For Phone&#45;&gt;Take Order -->\n",
       "<g class=\"edge\" id=\"edge2\"><title>Wait For Phone-&gt;Take Order</title>\n",
       "<path d=\"M172.493,-173.799C172.493,-162.163 172.493,-146.548 172.493,-133.237\" fill=\"none\" stroke=\"black\"/>\n",
       "<polygon fill=\"black\" points=\"175.993,-133.175 172.493,-123.175 168.993,-133.175 175.993,-133.175\" stroke=\"black\"/>\n",
       "<text font-family=\"Times,serif\" font-size=\"14.00\" text-anchor=\"middle\" x=\"204.493\" y=\"-144.8\">phone rings</text>\n",
       "</g>\n",
       "<!-- Enter Lasagne Order -->\n",
       "<g class=\"node\" id=\"node4\"><title>Enter Lasagne Order</title>\n",
       "<ellipse cx=\"84.4925\" cy=\"-18\" fill=\"none\" rx=\"84.485\" ry=\"18\" stroke=\"black\"/>\n",
       "<text font-family=\"Times,serif\" font-size=\"14.00\" text-anchor=\"middle\" x=\"84.4925\" y=\"-14.3\">Enter Lasagne Order</text>\n",
       "</g>\n",
       "<!-- Take Order&#45;&gt;Enter Lasagne Order -->\n",
       "<g class=\"edge\" id=\"edge3\"><title>Take Order-&gt;Enter Lasagne Order</title>\n",
       "<path d=\"M136.857,-91.9773C124.966,-86.5147 112.473,-78.9891 103.493,-69 97.7305,-62.5905 93.6491,-54.2565 90.7871,-46.2358\" fill=\"none\" stroke=\"black\"/>\n",
       "<polygon fill=\"black\" points=\"94.0537,-44.9495 87.7793,-36.4124 87.3604,-46.9989 94.0537,-44.9495\" stroke=\"black\"/>\n",
       "<text font-family=\"Times,serif\" font-size=\"14.00\" text-anchor=\"middle\" x=\"171.493\" y=\"-57.8\">customer_wants_lasagne</text>\n",
       "</g>\n",
       "<!-- Enter Pizza Order -->\n",
       "<g class=\"node\" id=\"node5\"><title>Enter Pizza Order</title>\n",
       "<ellipse cx=\"261.493\" cy=\"-18\" fill=\"none\" rx=\"74.187\" ry=\"18\" stroke=\"black\"/>\n",
       "<text font-family=\"Times,serif\" font-size=\"14.00\" text-anchor=\"middle\" x=\"261.493\" y=\"-14.3\">Enter Pizza Order</text>\n",
       "</g>\n",
       "<!-- Take Order&#45;&gt;Enter Pizza Order -->\n",
       "<g class=\"edge\" id=\"edge4\"><title>Take Order-&gt;Enter Pizza Order</title>\n",
       "<path d=\"M206.823,-91.527C218.344,-86.022 230.528,-78.5848 239.493,-69 245.572,-62.4999 250.15,-54.0465 253.511,-45.9453\" fill=\"none\" stroke=\"black\"/>\n",
       "<polygon fill=\"black\" points=\"256.858,-46.9867 257.027,-36.3932 250.288,-44.5691 256.858,-46.9867\" stroke=\"black\"/>\n",
       "<text font-family=\"Times,serif\" font-size=\"14.00\" text-anchor=\"middle\" x=\"312.493\" y=\"-57.8\">customer_wants_pizza</text>\n",
       "</g>\n",
       "</g>\n",
       "</svg>"
      ],
      "text/plain": [
       "<IPython.core.display.SVG object>"
      ]
     },
     "metadata": {},
     "output_type": "display_data"
    }
   ],
   "source": [
    "display_machine(receptionist)"
   ]
  },
  {
   "cell_type": "markdown",
   "metadata": {},
   "source": [
    "### Receptionist waits, but only receives silence"
   ]
  },
  {
   "cell_type": "markdown",
   "metadata": {},
   "source": [
    "Broadcast silence on the phone."
   ]
  },
  {
   "cell_type": "code",
   "execution_count": 21,
   "metadata": {
    "collapsed": false
   },
   "outputs": [],
   "source": [
    "evt = Event('phone is silent')\n",
    "receptionist.set_state(wait_for_phone)\n",
    "receptionist.notify(evt)\n",
    "assert wait_for_phone==receptionist.current_state"
   ]
  },
  {
   "cell_type": "markdown",
   "metadata": {},
   "source": [
    "### Phone rings, so receptionist takes order"
   ]
  },
  {
   "cell_type": "markdown",
   "metadata": {},
   "source": [
    "Broadcast a ringing phone."
   ]
  },
  {
   "cell_type": "code",
   "execution_count": 22,
   "metadata": {
    "collapsed": false
   },
   "outputs": [
    {
     "name": "stderr",
     "output_type": "stream",
     "text": [
      "INFO:default:Receptionist transitioning to state State:Take Order\n"
     ]
    }
   ],
   "source": [
    "evt = Event('phone rings')\n",
    "receptionist.set_state(wait_for_phone)\n",
    "receptionist.notify(evt)\n",
    "assert take_order==receptionist.current_state, receptionist.current_state"
   ]
  },
  {
   "cell_type": "markdown",
   "metadata": {},
   "source": [
    "### Customer Wants Pizza"
   ]
  },
  {
   "cell_type": "markdown",
   "metadata": {},
   "source": [
    "Take an order from a customer who wants pizza."
   ]
  },
  {
   "cell_type": "code",
   "execution_count": 23,
   "metadata": {
    "collapsed": false
   },
   "outputs": [
    {
     "name": "stderr",
     "output_type": "stream",
     "text": [
      "INFO:default:Receptionist transitioning to state State:Enter Pizza Order\n"
     ]
    }
   ],
   "source": [
    "evt = Event('customer_wants_pizza')\n",
    "receptionist.set_state( take_order )\n",
    "receptionist.notify(evt)\n",
    "assert enter_pizza_order==receptionist.current_state"
   ]
  },
  {
   "cell_type": "markdown",
   "metadata": {},
   "source": [
    "### Customer Wants Lasagne"
   ]
  },
  {
   "cell_type": "markdown",
   "metadata": {},
   "source": [
    "Take an order from a customer who wants pizza."
   ]
  },
  {
   "cell_type": "code",
   "execution_count": 24,
   "metadata": {
    "collapsed": false
   },
   "outputs": [
    {
     "name": "stderr",
     "output_type": "stream",
     "text": [
      "INFO:default:Receptionist transitioning to state State:Enter Lasagne Order\n"
     ]
    }
   ],
   "source": [
    "evt = Event('customer_wants_lasagne')\n",
    "receptionist.set_state( take_order )\n",
    "receptionist.notify(evt)\n",
    "assert enter_lasagne_order==receptionist.current_state"
   ]
  },
  {
   "cell_type": "markdown",
   "metadata": {},
   "source": [
    "### The Full Pizza Sequence"
   ]
  },
  {
   "cell_type": "markdown",
   "metadata": {},
   "source": [
    "Test a ringing phone, followed by a customer who wants pizza."
   ]
  },
  {
   "cell_type": "code",
   "execution_count": 25,
   "metadata": {
    "collapsed": false
   },
   "outputs": [
    {
     "name": "stderr",
     "output_type": "stream",
     "text": [
      "INFO:default:Receptionist transitioning to state State:Take Order\n",
      "INFO:default:Receptionist transitioning to state State:Enter Pizza Order\n"
     ]
    }
   ],
   "source": [
    "receptionist.set_state( wait_for_phone )\n",
    "receptionist.notify(Event('silence'))\n",
    "receptionist.notify(Event('phone rings'))\n",
    "receptionist.notify(Event('customer_wants_pizza'))\n",
    "assert enter_pizza_order==receptionist.current_state"
   ]
  },
  {
   "cell_type": "markdown",
   "metadata": {},
   "source": [
    "### The Full Pizza Sequence"
   ]
  },
  {
   "cell_type": "markdown",
   "metadata": {},
   "source": [
    "Test a ringing phone, followed by a customer who wants lasagne."
   ]
  },
  {
   "cell_type": "code",
   "execution_count": 26,
   "metadata": {
    "collapsed": false
   },
   "outputs": [
    {
     "name": "stderr",
     "output_type": "stream",
     "text": [
      "INFO:default:Receptionist transitioning to state State:Take Order\n",
      "INFO:default:Receptionist transitioning to state State:Enter Lasagne Order\n"
     ]
    }
   ],
   "source": [
    "receptionist.set_state( wait_for_phone )\n",
    "receptionist.notify(Event('silence'))\n",
    "receptionist.notify(Event('phone rings'))\n",
    "receptionist.notify(Event('customer_wants_lasagne'))\n",
    "assert enter_lasagne_order==receptionist.current_state"
   ]
  }
 ],
 "metadata": {
  "kernelspec": {
   "display_name": "Python 3",
   "language": "python",
   "name": "python3"
  },
  "language_info": {
   "codemirror_mode": {
    "name": "ipython",
    "version": 3
   },
   "file_extension": ".py",
   "mimetype": "text/x-python",
   "name": "python",
   "nbconvert_exporter": "python",
   "pygments_lexer": "ipython3",
   "version": "3.3.5"
  }
 },
 "nbformat": 4,
 "nbformat_minor": 0
}
