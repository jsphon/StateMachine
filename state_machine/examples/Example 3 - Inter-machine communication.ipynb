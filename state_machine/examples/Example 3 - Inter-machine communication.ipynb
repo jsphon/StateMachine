{
 "cells": [
  {
   "cell_type": "markdown",
   "metadata": {},
   "source": [
    "# Example State Machine Usage\n",
    "## Inter-Machine Communication\n",
    "\n",
    "A demonstration of how state machines can communicate.\n",
    "\n",
    "In this example, server sends 'hello world' to client."
   ]
  },
  {
   "cell_type": "code",
   "execution_count": 53,
   "metadata": {
    "collapsed": false
   },
   "outputs": [],
   "source": [
    "from state_machine import StateMachine, State, Event"
   ]
  },
  {
   "cell_type": "markdown",
   "metadata": {},
   "source": [
    "Create server. When server receivers any event, send_data is called, which sends a 'data' event containing 'hello world'"
   ]
  },
  {
   "cell_type": "code",
   "execution_count": 54,
   "metadata": {
    "collapsed": false
   },
   "outputs": [
    {
     "name": "stderr",
     "output_type": "stream",
     "text": [
      "INFO:default:Creating state of type <class 'state_machine.state.State'>\n"
     ]
    }
   ],
   "source": [
    "def send_data(event, state):\n",
    "    state.logger.info( 'Server sending data' )\n",
    "    e = Event('data', 'hello world')\n",
    "    state.notify_observers(e)\n",
    "\n",
    "server       = StateMachine()\n",
    "server_state = server.create_state('do something')\n",
    "server_state.on_run = send_data\n",
    "server.initial_state = server_state\n",
    "server.reset()"
   ]
  },
  {
   "cell_type": "markdown",
   "metadata": {},
   "source": [
    "Make the client, which uses register_observer to tell server that it wants to receive 'data' events."
   ]
  },
  {
   "cell_type": "code",
   "execution_count": 55,
   "metadata": {
    "collapsed": false
   },
   "outputs": [
    {
     "name": "stderr",
     "output_type": "stream",
     "text": [
      "INFO:default:Creating state of type <class 'state_machine.state.State'>\n"
     ]
    }
   ],
   "source": [
    "def handle_data(event, state):\n",
    "    state.logger.info( 'Received data %s', event.payload)\n",
    "    state.called=True\n",
    "\n",
    "client = StateMachine()\n",
    "server.register_observer('data', client)\n",
    "client_state = client.create_state('wait for data')\n",
    "client_state.on_run = handle_data\n",
    "client_state.called = False\n",
    "\n",
    "client.initial_state = client_state\n",
    "client.reset()"
   ]
  },
  {
   "cell_type": "markdown",
   "metadata": {},
   "source": [
    "Send an event to the server, which subsequently sends 'hello world' to the client."
   ]
  },
  {
   "cell_type": "code",
   "execution_count": 56,
   "metadata": {
    "collapsed": false
   },
   "outputs": [
    {
     "name": "stderr",
     "output_type": "stream",
     "text": [
      "INFO:default:Server sending data\n",
      "INFO:default:Received data hello world\n"
     ]
    }
   ],
   "source": [
    "# Test\n",
    "e = Event()\n",
    "server.notify(e)"
   ]
  }
 ],
 "metadata": {
  "kernelspec": {
   "display_name": "Python 3",
   "language": "python",
   "name": "python3"
  },
  "language_info": {
   "codemirror_mode": {
    "name": "ipython",
    "version": 3
   },
   "file_extension": ".py",
   "mimetype": "text/x-python",
   "name": "python",
   "nbconvert_exporter": "python",
   "pygments_lexer": "ipython3",
   "version": "3.3.5"
  }
 },
 "nbformat": 4,
 "nbformat_minor": 0
}
