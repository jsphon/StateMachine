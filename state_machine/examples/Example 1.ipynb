{
 "cells": [
  {
   "cell_type": "markdown",
   "metadata": {},
   "source": [
    "# Example State Machine Usage\n",
    "\n"
   ]
  },
  {
   "cell_type": "code",
   "execution_count": 1,
   "metadata": {
    "collapsed": true
   },
   "outputs": [],
   "source": [
    "from state_machine import StateMachine, State, Model, Condition, AlwaysTrue, AlwaysFalse"
   ]
  },
  {
   "cell_type": "code",
   "execution_count": 2,
   "metadata": {
    "collapsed": true
   },
   "outputs": [],
   "source": [
    "class ReceptionistModel( Model ):\n",
    "    def __init__( self, name='Bernie' ):\n",
    "        super( ReceptionistModel, self ).__init__( name )\n",
    "        \n",
    "model = ReceptionistModel()"
   ]
  },
  {
   "cell_type": "markdown",
   "metadata": {},
   "source": [
    "Make some conditions. Not that PhoneRings listens for 'phone', and CustomerWants listerns for 'customer'."
   ]
  },
  {
   "cell_type": "code",
   "execution_count": 3,
   "metadata": {
    "collapsed": true
   },
   "outputs": [],
   "source": [
    "class PhoneRings(Condition):\n",
    "    listens_for='phone'\n",
    "    def __init__(self):\n",
    "        self.name='Phone Rings'\n",
    "    def is_triggered(self, data, model):\n",
    "        return data=='ring ring'\n",
    "PHONE_RINGS = PhoneRings()\n",
    "assert PHONE_RINGS.is_triggered( 'ring ring', None )==True\n",
    "assert PHONE_RINGS.is_triggered( 'silence', None )==False"
   ]
  },
  {
   "cell_type": "code",
   "execution_count": 4,
   "metadata": {
    "collapsed": true
   },
   "outputs": [],
   "source": [
    "class CustomerWants(Condition):\n",
    "    listens_for='customer'\n",
    "    def __init__(self, wants):\n",
    "        self.name='Wants %s'%wants\n",
    "        self.wants=wants\n",
    "        \n",
    "    def is_triggered(self, data, model):\n",
    "        if isinstance(data, dict):\n",
    "            return self.wants==data.get('wants', self.wants)\n",
    "\n",
    "CUSTOMER_WANTS_PIZZA   = CustomerWants('pizza')\n",
    "CUSTOMER_WANTS_LASAGNE = CustomerWants('lasagne')\n",
    "\n",
    "assert CUSTOMER_WANTS_PIZZA.is_triggered( {'wants':'lasagne'}, model )==False\n",
    "assert CUSTOMER_WANTS_PIZZA.is_triggered( {'wants':'pizza'}, model )==True"
   ]
  },
  {
   "cell_type": "code",
   "execution_count": 5,
   "metadata": {
    "collapsed": true
   },
   "outputs": [],
   "source": [
    "class EnterPizzaOrder(State):\n",
    "    def on_start(self, data, model):\n",
    "        model.logger.info('Entering Pizza Order')\n",
    "        \n",
    "class EnterLasagneOrder(State):\n",
    "    def on_start(self, data, model):\n",
    "        model.logger.info('Entering Lasagne Order')"
   ]
  },
  {
   "cell_type": "code",
   "execution_count": 6,
   "metadata": {
    "collapsed": true
   },
   "outputs": [],
   "source": [
    "receptionist = StateMachine( 'Receptionist' )\n",
    "\n",
    "wait_for_phone    = State('Wait For Phone')\n",
    "take_order        = State('Take Order')\n",
    "\n",
    "enter_lasagne_order = EnterLasagneOrder( 'Enter Lasagne Order' )\n",
    "enter_pizza_order   = EnterPizzaOrder('Enter Pizza Order' )\n",
    "\n",
    "wait_for_phone.add_transition_to(take_order,PHONE_RINGS)\n",
    "take_order.add_transition_to( enter_lasagne_order, CUSTOMER_WANTS_LASAGNE )\n",
    "take_order.add_transition_to( enter_pizza_order, CUSTOMER_WANTS_PIZZA )"
   ]
  },
  {
   "cell_type": "markdown",
   "metadata": {},
   "source": [
    "### Receptionist waits, but only receives silence"
   ]
  },
  {
   "cell_type": "markdown",
   "metadata": {},
   "source": [
    "Broadcast silence on the phone."
   ]
  },
  {
   "cell_type": "code",
   "execution_count": 7,
   "metadata": {
    "collapsed": false
   },
   "outputs": [
    {
     "name": "stderr",
     "output_type": "stream",
     "text": [
      "INFO:default:phone, SILENCE\n",
      "INFO:default:We have 1 transitions\n",
      "INFO:default:TEsting Transition from State:Wait For Phone to State:Take Order, Condition:(Phone Rings)\n"
     ]
    }
   ],
   "source": [
    "data = { 'phone':'SILENCE' }\n",
    "model.set_state( wait_for_phone )\n",
    "receptionist.run( data, model )\n",
    "assert wait_for_phone==model.current_state"
   ]
  },
  {
   "cell_type": "markdown",
   "metadata": {},
   "source": [
    "### Phone rings, so receptionist takes order"
   ]
  },
  {
   "cell_type": "markdown",
   "metadata": {},
   "source": [
    "Broadcast a ringing phone."
   ]
  },
  {
   "cell_type": "code",
   "execution_count": 8,
   "metadata": {
    "collapsed": false
   },
   "outputs": [
    {
     "name": "stderr",
     "output_type": "stream",
     "text": [
      "INFO:default:phone, ring ring\n",
      "INFO:default:We have 1 transitions\n",
      "INFO:default:TEsting Transition from State:Wait For Phone to State:Take Order, Condition:(Phone Rings)\n",
      "INFO:default:Returning Transition from State:Wait For Phone to State:Take Order, Condition:(Phone Rings)\n",
      "INFO:default:phone, ring ring\n",
      "INFO:default:We have 0 transitions\n"
     ]
    }
   ],
   "source": [
    "data = { 'phone':'ring ring' }\n",
    "model.set_state( wait_for_phone )\n",
    "receptionist.run(data, model)\n",
    "assert take_order==model.current_state"
   ]
  },
  {
   "cell_type": "markdown",
   "metadata": {},
   "source": [
    "### Customer Wants Pizza"
   ]
  },
  {
   "cell_type": "markdown",
   "metadata": {},
   "source": [
    "Take an order from a customer who wants pizza."
   ]
  },
  {
   "cell_type": "code",
   "execution_count": 9,
   "metadata": {
    "collapsed": false
   },
   "outputs": [
    {
     "name": "stderr",
     "output_type": "stream",
     "text": [
      "INFO:default:customer, {'wants': 'pizza'}\n",
      "INFO:default:We have 2 transitions\n",
      "INFO:default:TEsting Transition from State:Take Order to State:Enter Lasagne Order, Condition:(Wants lasagne)\n",
      "INFO:default:TEsting Transition from State:Take Order to State:Enter Pizza Order, Condition:(Wants pizza)\n",
      "INFO:default:Returning Transition from State:Take Order to State:Enter Pizza Order, Condition:(Wants pizza)\n",
      "INFO:default:Entering Pizza Order\n",
      "INFO:default:customer, {'wants': 'pizza'}\n",
      "INFO:default:We have 0 transitions\n"
     ]
    }
   ],
   "source": [
    "data = {'customer':{'wants':'pizza'}}\n",
    "model.set_state( take_order )\n",
    "receptionist.run(data,model)\n",
    "assert enter_pizza_order==model.current_state"
   ]
  },
  {
   "cell_type": "markdown",
   "metadata": {},
   "source": [
    "### Customer Wants Lasagne"
   ]
  },
  {
   "cell_type": "markdown",
   "metadata": {},
   "source": [
    "Take an order from a customer who wants pizza."
   ]
  },
  {
   "cell_type": "code",
   "execution_count": 10,
   "metadata": {
    "collapsed": false
   },
   "outputs": [
    {
     "name": "stderr",
     "output_type": "stream",
     "text": [
      "INFO:default:customer, {'wants': 'lasagne'}\n",
      "INFO:default:We have 2 transitions\n",
      "INFO:default:TEsting Transition from State:Take Order to State:Enter Lasagne Order, Condition:(Wants lasagne)\n",
      "INFO:default:Returning Transition from State:Take Order to State:Enter Lasagne Order, Condition:(Wants lasagne)\n",
      "INFO:default:Entering Lasagne Order\n",
      "INFO:default:customer, {'wants': 'lasagne'}\n",
      "INFO:default:We have 0 transitions\n"
     ]
    }
   ],
   "source": [
    "data = {'customer':{'wants':'lasagne'}}\n",
    "model.set_state( take_order )\n",
    "receptionist.run(data,model)\n",
    "assert enter_lasagne_order==model.current_state"
   ]
  },
  {
   "cell_type": "markdown",
   "metadata": {},
   "source": [
    "### The Full Pizza Sequence"
   ]
  },
  {
   "cell_type": "markdown",
   "metadata": {},
   "source": [
    "Test a ringing phone, followed by a customer who wants pizza."
   ]
  },
  {
   "cell_type": "code",
   "execution_count": 11,
   "metadata": {
    "collapsed": false
   },
   "outputs": [
    {
     "name": "stderr",
     "output_type": "stream",
     "text": [
      "INFO:default:phone, SILENCE\n",
      "INFO:default:We have 1 transitions\n",
      "INFO:default:TEsting Transition from State:Wait For Phone to State:Take Order, Condition:(Phone Rings)\n",
      "INFO:default:phone, ring ring\n",
      "INFO:default:We have 1 transitions\n",
      "INFO:default:TEsting Transition from State:Wait For Phone to State:Take Order, Condition:(Phone Rings)\n",
      "INFO:default:Returning Transition from State:Wait For Phone to State:Take Order, Condition:(Phone Rings)\n",
      "INFO:default:phone, ring ring\n",
      "INFO:default:We have 0 transitions\n",
      "INFO:default:customer, {'wants': 'pizza'}\n",
      "INFO:default:We have 2 transitions\n",
      "INFO:default:TEsting Transition from State:Take Order to State:Enter Lasagne Order, Condition:(Wants lasagne)\n",
      "INFO:default:TEsting Transition from State:Take Order to State:Enter Pizza Order, Condition:(Wants pizza)\n",
      "INFO:default:Returning Transition from State:Take Order to State:Enter Pizza Order, Condition:(Wants pizza)\n",
      "INFO:default:Entering Pizza Order\n",
      "INFO:default:customer, {'wants': 'pizza'}\n",
      "INFO:default:We have 0 transitions\n"
     ]
    }
   ],
   "source": [
    "model.set_state( wait_for_phone )\n",
    "receptionist.run( {'phone':'SILENCE'}, model )\n",
    "receptionist.run( {'phone':'ring ring'}, model)\n",
    "receptionist.run({'customer':{'wants':'pizza'}}, model)\n",
    "assert enter_pizza_order==model.current_state"
   ]
  },
  {
   "cell_type": "markdown",
   "metadata": {},
   "source": [
    "### The Full Pizza Sequence"
   ]
  },
  {
   "cell_type": "markdown",
   "metadata": {},
   "source": [
    "Test a ringing phone, followed by a customer who wants lasagne."
   ]
  },
  {
   "cell_type": "code",
   "execution_count": 12,
   "metadata": {
    "collapsed": false
   },
   "outputs": [
    {
     "name": "stderr",
     "output_type": "stream",
     "text": [
      "INFO:default:phone, SILENCE\n",
      "INFO:default:We have 1 transitions\n",
      "INFO:default:TEsting Transition from State:Wait For Phone to State:Take Order, Condition:(Phone Rings)\n",
      "INFO:default:phone, ring ring\n",
      "INFO:default:We have 1 transitions\n",
      "INFO:default:TEsting Transition from State:Wait For Phone to State:Take Order, Condition:(Phone Rings)\n",
      "INFO:default:Returning Transition from State:Wait For Phone to State:Take Order, Condition:(Phone Rings)\n",
      "INFO:default:phone, ring ring\n",
      "INFO:default:We have 0 transitions\n",
      "INFO:default:customer, {'wants': 'lasagne'}\n",
      "INFO:default:We have 2 transitions\n",
      "INFO:default:TEsting Transition from State:Take Order to State:Enter Lasagne Order, Condition:(Wants lasagne)\n",
      "INFO:default:Returning Transition from State:Take Order to State:Enter Lasagne Order, Condition:(Wants lasagne)\n",
      "INFO:default:Entering Lasagne Order\n",
      "INFO:default:customer, {'wants': 'lasagne'}\n",
      "INFO:default:We have 0 transitions\n"
     ]
    }
   ],
   "source": [
    "model.set_state( wait_for_phone )\n",
    "receptionist.run( {'phone':'SILENCE'}, model )\n",
    "receptionist.run( {'phone':'ring ring'}, model)\n",
    "receptionist.run({'customer':{'wants':'lasagne'}}, model)\n",
    "assert enter_lasagne_order==model.current_state"
   ]
  },
  {
   "cell_type": "code",
   "execution_count": null,
   "metadata": {
    "collapsed": true
   },
   "outputs": [],
   "source": []
  }
 ],
 "metadata": {
  "kernelspec": {
   "display_name": "Python 3",
   "language": "python",
   "name": "python3"
  },
  "language_info": {
   "codemirror_mode": {
    "name": "ipython",
    "version": 3
   },
   "file_extension": ".py",
   "mimetype": "text/x-python",
   "name": "python",
   "nbconvert_exporter": "python",
   "pygments_lexer": "ipython3",
   "version": "3.3.5"
  }
 },
 "nbformat": 4,
 "nbformat_minor": 0
}
