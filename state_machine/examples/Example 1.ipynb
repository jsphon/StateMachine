{
 "cells": [
  {
   "cell_type": "markdown",
   "metadata": {},
   "source": [
    "# Example State Machine Usage\n",
    "\n"
   ]
  },
  {
   "cell_type": "code",
   "execution_count": 1,
   "metadata": {
    "collapsed": false
   },
   "outputs": [],
   "source": [
    "from state_machine import StateMachine, State, Model, Condition, AlwaysTrue, AlwaysFalse"
   ]
  },
  {
   "cell_type": "code",
   "execution_count": 2,
   "metadata": {
    "collapsed": true
   },
   "outputs": [],
   "source": [
    "class ReceptionistModel( Model ):\n",
    "    def __init__( self, name='Bernie' ):\n",
    "        super( ReceptionistModel, self ).__init__( name )\n",
    "        \n",
    "model = ReceptionistModel()"
   ]
  },
  {
   "cell_type": "code",
   "execution_count": 3,
   "metadata": {
    "collapsed": false
   },
   "outputs": [],
   "source": [
    "class PhoneRings(Condition):\n",
    "    def __init__(self):\n",
    "        self.name='Phone Rings'\n",
    "    def is_triggered(self, data, model):\n",
    "        return data=='ring ring'\n",
    "PHONE_RINGS = PhoneRings()\n",
    "assert PHONE_RINGS.is_triggered( 'ring ring', None )==True\n",
    "assert PHONE_RINGS.is_triggered( 'silence', None )==False"
   ]
  },
  {
   "cell_type": "code",
   "execution_count": 4,
   "metadata": {
    "collapsed": false
   },
   "outputs": [],
   "source": [
    "class CustomerWants(Condition):\n",
    "    def __init__(self, wants):\n",
    "        self.name='Wants %s'%wants\n",
    "        self.wants=wants\n",
    "        \n",
    "    def is_triggered(self, data, model):\n",
    "        if isinstance(data, dict):\n",
    "            return self.wants==data.get('customer_wants', self.wants)\n",
    "\n",
    "CUSTOMER_WANTS_PIZZA   = CustomerWants('pizza')\n",
    "CUSTOMER_WANTS_LASAGNE = CustomerWants('lasagne')\n",
    "\n",
    "assert CUSTOMER_WANTS_PIZZA.is_triggered( {'customer_wants':'lasagne'}, model )==False\n",
    "assert CUSTOMER_WANTS_PIZZA.is_triggered( {'customer_wants':'pizza'}, model )==True"
   ]
  },
  {
   "cell_type": "code",
   "execution_count": 5,
   "metadata": {
    "collapsed": false
   },
   "outputs": [],
   "source": [
    "receptionist = StateMachine( 'Receptionist' )\n",
    "\n",
    "wait_for_phone    = State('Wait For Phone')\n",
    "take_order        = State('Take Order')\n",
    "\n",
    "enter_lasagne_order = State( 'Enter Lasagne Order' )\n",
    "enter_pizza_order   = State('Enter Pizza Order' )\n",
    "\n",
    "wait_for_phone.add_transition_to(take_order,PHONE_RINGS)\n",
    "take_order.add_transition_to( enter_lasagne_order, CUSTOMER_WANTS_LASAGNE )\n",
    "take_order.add_transition_to( enter_pizza_order, CUSTOMER_WANTS_PIZZA )\n",
    "\n",
    "receptionist.add_state( wait_for_phone )\n",
    "receptionist.add_state( take_order )\n",
    "\n",
    "model.set_state( wait_for_phone )"
   ]
  },
  {
   "cell_type": "code",
   "execution_count": 6,
   "metadata": {
    "collapsed": false
   },
   "outputs": [
    {
     "name": "stderr",
     "output_type": "stream",
     "text": [
      "INFO:default:Testing Transition from State:Wait For Phone to State:Take Order, Conditions:(Phone Rings)\n"
     ]
    }
   ],
   "source": [
    "receptionist.run( 'SILENCE', model )"
   ]
  },
  {
   "cell_type": "code",
   "execution_count": 7,
   "metadata": {
    "collapsed": false
   },
   "outputs": [
    {
     "name": "stderr",
     "output_type": "stream",
     "text": [
      "INFO:default:Testing Transition from State:Wait For Phone to State:Take Order, Conditions:(Phone Rings)\n",
      "INFO:default:Transition from State:Wait For Phone to State:Take Order triggered\n",
      "INFO:default:Testing Transition from State:Take Order to State:Enter Lasagne Order, Conditions:(Wants lasagne)\n",
      "INFO:default:Testing Transition from State:Take Order to State:Enter Pizza Order, Conditions:(Wants pizza)\n"
     ]
    },
    {
     "name": "stdout",
     "output_type": "stream",
     "text": [
      "State:Take Order\n"
     ]
    }
   ],
   "source": [
    "receptionist.run('ring ring', model)\n",
    "print(model.current_state)"
   ]
  },
  {
   "cell_type": "code",
   "execution_count": 8,
   "metadata": {
    "collapsed": false
   },
   "outputs": [
    {
     "name": "stderr",
     "output_type": "stream",
     "text": [
      "INFO:default:Testing Transition from State:Take Order to State:Enter Lasagne Order, Conditions:(Wants lasagne)\n",
      "INFO:default:Testing Transition from State:Take Order to State:Enter Pizza Order, Conditions:(Wants pizza)\n",
      "INFO:default:Transition from State:Take Order to State:Enter Pizza Order triggered\n"
     ]
    },
    {
     "name": "stdout",
     "output_type": "stream",
     "text": [
      "State:Enter Pizza Order\n"
     ]
    }
   ],
   "source": [
    "receptionist.run({'customer_wants':'pizza'},model)\n",
    "print( model.current_state )"
   ]
  },
  {
   "cell_type": "code",
   "execution_count": 9,
   "metadata": {
    "collapsed": false
   },
   "outputs": [
    {
     "name": "stderr",
     "output_type": "stream",
     "text": [
      "INFO:default:Testing Transition from State:Wait For Phone to State:Take Order, Conditions:(Phone Rings)\n",
      "INFO:default:Testing Transition from State:Wait For Phone to State:Take Order, Conditions:(Phone Rings)\n",
      "INFO:default:Transition from State:Wait For Phone to State:Take Order triggered\n",
      "INFO:default:Testing Transition from State:Take Order to State:Enter Lasagne Order, Conditions:(Wants lasagne)\n",
      "INFO:default:Testing Transition from State:Take Order to State:Enter Pizza Order, Conditions:(Wants pizza)\n",
      "INFO:default:Testing Transition from State:Take Order to State:Enter Lasagne Order, Conditions:(Wants lasagne)\n",
      "INFO:default:Transition from State:Take Order to State:Enter Lasagne Order triggered\n"
     ]
    },
    {
     "name": "stdout",
     "output_type": "stream",
     "text": [
      "State:Enter Lasagne Order\n"
     ]
    }
   ],
   "source": [
    "model.set_state( wait_for_phone )\n",
    "receptionist.run( 'SILENCE', model )\n",
    "receptionist.run('ring ring', model)\n",
    "receptionist.run({'customer_wants':'lasagne'},model)\n",
    "print( model.current_state )"
   ]
  },
  {
   "cell_type": "code",
   "execution_count": null,
   "metadata": {
    "collapsed": true
   },
   "outputs": [],
   "source": []
  }
 ],
 "metadata": {
  "kernelspec": {
   "display_name": "Python 3",
   "language": "python",
   "name": "python3"
  },
  "language_info": {
   "codemirror_mode": {
    "name": "ipython",
    "version": 3
   },
   "file_extension": ".py",
   "mimetype": "text/x-python",
   "name": "python",
   "nbconvert_exporter": "python",
   "pygments_lexer": "ipython3",
   "version": "3.3.5"
  }
 },
 "nbformat": 4,
 "nbformat_minor": 0
}
