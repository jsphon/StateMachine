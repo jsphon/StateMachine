{
 "cells": [
  {
   "cell_type": "markdown",
   "metadata": {},
   "source": [
    "# Example State Machine Usage\n",
    "\n",
    "## Hierarchical State Machine\n",
    "\n",
    "Demonstrating use of the CompositeState class."
   ]
  },
  {
   "cell_type": "code",
   "execution_count": 31,
   "metadata": {
    "collapsed": false
   },
   "outputs": [],
   "source": [
    "from state_machine import StateMachine, State, Event, CompositeState"
   ]
  },
  {
   "cell_type": "code",
   "execution_count": 32,
   "metadata": {
    "collapsed": false
   },
   "outputs": [
    {
     "name": "stderr",
     "output_type": "stream",
     "text": [
      "INFO:default:Creating state of type <class 'state_machine.composite_state.CompositeState'>\n",
      "INFO:default:Creating state of type <class 'state_machine.state.State'>\n"
     ]
    }
   ],
   "source": [
    "from state_machine import Event, State, StateMachine, CompositeState, FinalState\n",
    "from mock import MagicMock\n",
    "\n",
    "\n",
    "chatbot = StateMachine('chatbot')\n",
    "active_state = chatbot.create_state('active', CompositeState)\n",
    "sleeping_state = chatbot.create_state('sleeping', State)\n",
    "\n",
    "chatbot.initial_state=active_state\n",
    "active_state.add_transition_to(sleeping_state, 'sunset')\n",
    "sleeping_state.add_transition_to(active_state, 'sunrise')"
   ]
  },
  {
   "cell_type": "code",
   "execution_count": 33,
   "metadata": {
    "collapsed": false
   },
   "outputs": [
    {
     "name": "stderr",
     "output_type": "stream",
     "text": [
      "INFO:default:Creating state of type <class 'state_machine.state.State'>\n",
      "INFO:default:Creating state of type <class 'state_machine.state.State'>\n"
     ]
    }
   ],
   "source": [
    "def become_happy( event, state ):\n",
    "    state.logger.info('Becoming Happy')\n",
    "    \n",
    "def happy_message(event, state):\n",
    "    if event.name=='msg':\n",
    "        state.logger.info('Hello %s, I am happy', event.payload['from'])\n",
    "    \n",
    "def become_sad(event, state):\n",
    "    state.logger.info('Becoming Sad')\n",
    "    \n",
    "def sad_message(event, state):\n",
    "    if event.name=='msg':\n",
    "        state.logger.info('Hello %s, I am sad', event.payload['from'])\n",
    "\n",
    "happy_state = active_state.create_state('happy')\n",
    "happy_state.on_start = become_happy\n",
    "happy_state.on_run   = happy_message\n",
    "\n",
    "sad_state = active_state.create_state('sad')\n",
    "sad_state.on_start = become_sad\n",
    "sad_state.on_run = sad_message\n",
    "\n",
    "happy_state.add_transition_to(sad_state, 'criticism')\n",
    "sad_state.add_transition_to(happy_state, 'praise')\n",
    "\n",
    "active_state.initial_state=happy_state\n",
    "active_state.reset()\n",
    "\n",
    "sunrise=Event('sunrise')\n",
    "sunset=Event('sunset')\n",
    "\n",
    "hello = Event('msg',{'from':'Bernie'})\n",
    "\n",
    "criticism=Event('criticism')\n",
    "praise=Event('praise')"
   ]
  },
  {
   "cell_type": "code",
   "execution_count": 34,
   "metadata": {
    "collapsed": true
   },
   "outputs": [],
   "source": [
    "chatbot.reset()"
   ]
  },
  {
   "cell_type": "markdown",
   "metadata": {},
   "source": [
    "On sunset, the chat bot goes to sleep, so criticism and praise have no affect on it."
   ]
  },
  {
   "cell_type": "code",
   "execution_count": 35,
   "metadata": {
    "collapsed": false
   },
   "outputs": [
    {
     "name": "stderr",
     "output_type": "stream",
     "text": [
      "INFO:default:chatbot transitioning to state State:sleeping\n"
     ]
    }
   ],
   "source": [
    "# Send the bot to sleep\n",
    "chatbot.notify(sunset)\n",
    "\n",
    "#It is unresponsive\n",
    "chatbot.notify(criticism)\n",
    "chatbot.notify(hello)\n",
    "chatbot.notify(praise)\n",
    "chatbot.notify(hello)"
   ]
  },
  {
   "cell_type": "markdown",
   "metadata": {},
   "source": [
    "On sunrise, the chatbot wakes. so criticism or praise change the internal state."
   ]
  },
  {
   "cell_type": "code",
   "execution_count": 36,
   "metadata": {
    "collapsed": false
   },
   "outputs": [
    {
     "name": "stderr",
     "output_type": "stream",
     "text": [
      "INFO:default:chatbot transitioning to state State:active\n",
      "INFO:default:active transitioning to state State:sad\n",
      "INFO:default:Becoming Sad\n",
      "INFO:default:Hello Bernie, I am sad\n",
      "INFO:default:active transitioning to state State:happy\n",
      "INFO:default:Becoming Happy\n",
      "INFO:default:Hello Bernie, I am happy\n"
     ]
    }
   ],
   "source": [
    "# Wake up the chat bot\n",
    "chatbot.notify(sunrise)\n",
    "\n",
    "# It is responsive\n",
    "chatbot.notify(criticism)\n",
    "chatbot.notify(hello)\n",
    "chatbot.notify(praise)\n",
    "chatbot.notify(hello)"
   ]
  }
 ],
 "metadata": {
  "kernelspec": {
   "display_name": "Python 3",
   "language": "python",
   "name": "python3"
  },
  "language_info": {
   "codemirror_mode": {
    "name": "ipython",
    "version": 3
   },
   "file_extension": ".py",
   "mimetype": "text/x-python",
   "name": "python",
   "nbconvert_exporter": "python",
   "pygments_lexer": "ipython3",
   "version": "3.3.5"
  }
 },
 "nbformat": 4,
 "nbformat_minor": 0
}
