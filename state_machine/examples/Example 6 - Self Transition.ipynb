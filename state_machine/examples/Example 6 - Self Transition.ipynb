{
 "cells": [
  {
   "cell_type": "markdown",
   "metadata": {},
   "source": [
    "# Example State Machine Usage\n",
    "\n"
   ]
  },
  {
   "cell_type": "code",
   "execution_count": 2,
   "metadata": {
    "collapsed": false
   },
   "outputs": [],
   "source": [
    "from state_machine import StateMachine, State, Event, display_machine"
   ]
  },
  {
   "cell_type": "code",
   "execution_count": 3,
   "metadata": {
    "collapsed": false
   },
   "outputs": [
    {
     "name": "stderr",
     "output_type": "stream",
     "text": [
      "INFO:default:Creating state of type <class 'state_machine.state.State'>\n"
     ]
    }
   ],
   "source": [
    "receptionist = StateMachine( 'Receptionist' )\n",
    "\n",
    "def looks_at_clock(event, state):\n",
    "    state.logger.info('Looks at clock')\n",
    "    \n",
    "wait_for_phone      = receptionist.create_state('Wait For Phone')\n",
    "wait_for_phone.add_transition_to(wait_for_phone, 'clock ticks', action=looks_at_clock)\n",
    "\n",
    "receptionist.initial_state = wait_for_phone"
   ]
  },
  {
   "cell_type": "code",
   "execution_count": 4,
   "metadata": {
    "collapsed": false
   },
   "outputs": [
    {
     "data": {
      "image/svg+xml": [
       "<svg height=\"109pt\" viewBox=\"0.00 0.00 306.19 109.00\" width=\"306pt\" xmlns=\"http://www.w3.org/2000/svg\" xmlns:xlink=\"http://www.w3.org/1999/xlink\">\n",
       "<g class=\"graph\" id=\"graph0\" transform=\"scale(1 1) rotate(0) translate(4 105)\">\n",
       "<title>%3</title>\n",
       "<polygon fill=\"white\" points=\"-4,4 -4,-105 302.188,-105 302.188,4 -4,4\" stroke=\"none\"/>\n",
       "<!-- initial_Receptionist -->\n",
       "<g class=\"node\" id=\"node1\"><title>initial_Receptionist</title>\n",
       "<ellipse cx=\"67.594\" cy=\"-94\" fill=\"black\" rx=\"7\" ry=\"7\" stroke=\"black\"/>\n",
       "</g>\n",
       "<!-- Wait For Phone -->\n",
       "<g class=\"node\" id=\"node2\"><title>Wait For Phone</title>\n",
       "<ellipse cx=\"67.594\" cy=\"-18\" fill=\"none\" rx=\"67.6881\" ry=\"18\" stroke=\"black\"/>\n",
       "<text font-family=\"Times,serif\" font-size=\"14.00\" text-anchor=\"middle\" x=\"67.594\" y=\"-14.3\">Wait For Phone</text>\n",
       "</g>\n",
       "<!-- initial_Receptionist&#45;&gt;Wait For Phone -->\n",
       "<g class=\"edge\" id=\"edge1\"><title>initial_Receptionist-&gt;Wait For Phone</title>\n",
       "<path d=\"M67.594,-86.9443C67.594,-78.1114 67.594,-61.136 67.594,-46.3636\" fill=\"none\" stroke=\"black\"/>\n",
       "<polygon fill=\"black\" points=\"71.0941,-46.1441 67.594,-36.1442 64.0941,-46.1442 71.0941,-46.1441\" stroke=\"black\"/>\n",
       "<text font-family=\"Times,serif\" font-size=\"14.00\" text-anchor=\"middle\" x=\"79.594\" y=\"-57.8\">start</text>\n",
       "</g>\n",
       "<!-- Wait For Phone&#45;&gt;Wait For Phone -->\n",
       "<g class=\"edge\" id=\"edge2\"><title>Wait For Phone-&gt;Wait For Phone</title>\n",
       "<path d=\"M128.76,-25.7015C142.843,-25.0379 153.188,-22.4707 153.188,-18 153.188,-14.6819 147.49,-12.4124 138.794,-11.1914\" fill=\"none\" stroke=\"black\"/>\n",
       "<polygon fill=\"black\" points=\"139.031,-7.69873 128.76,-10.2985 138.411,-14.6712 139.031,-7.69873\" stroke=\"black\"/>\n",
       "<text font-family=\"Times,serif\" font-size=\"14.00\" text-anchor=\"middle\" x=\"225.688\" y=\"-14.3\">clock ticks/looks_at_clock</text>\n",
       "</g>\n",
       "</g>\n",
       "</svg>"
      ],
      "text/plain": [
       "<IPython.core.display.SVG object>"
      ]
     },
     "metadata": {},
     "output_type": "display_data"
    }
   ],
   "source": [
    "display_machine(receptionist)"
   ]
  },
  {
   "cell_type": "markdown",
   "metadata": {},
   "source": [
    "### Receptionist waits, but only receives silence"
   ]
  },
  {
   "cell_type": "markdown",
   "metadata": {},
   "source": [
    "Broadcast silence on the phone."
   ]
  },
  {
   "cell_type": "code",
   "execution_count": 7,
   "metadata": {
    "collapsed": false
   },
   "outputs": [
    {
     "name": "stderr",
     "output_type": "stream",
     "text": [
      "INFO:default:Receptionist transitioning to state State:Wait For Phone\n",
      "INFO:default:Looks at clock\n"
     ]
    }
   ],
   "source": [
    "receptionist.initialise()\n",
    "\n",
    "e = Event('clock ticks')\n",
    "receptionist.notify(e)"
   ]
  },
  {
   "cell_type": "code",
   "execution_count": null,
   "metadata": {
    "collapsed": true
   },
   "outputs": [],
   "source": []
  }
 ],
 "metadata": {
  "kernelspec": {
   "display_name": "Python 3",
   "language": "python",
   "name": "python3"
  },
  "language_info": {
   "codemirror_mode": {
    "name": "ipython",
    "version": 3
   },
   "file_extension": ".py",
   "mimetype": "text/x-python",
   "name": "python",
   "nbconvert_exporter": "python",
   "pygments_lexer": "ipython3",
   "version": "3.3.5"
  }
 },
 "nbformat": 4,
 "nbformat_minor": 0
}
